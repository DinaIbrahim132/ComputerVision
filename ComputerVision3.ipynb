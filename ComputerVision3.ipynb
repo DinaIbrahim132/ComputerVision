{
 "cells": [
  {
   "cell_type": "markdown",
   "metadata": {
    "id": "euwcBpTng4j5"
   },
   "source": [
    "# Imporr Libraries"
   ]
  },
  {
   "cell_type": "code",
   "execution_count": 1,
   "metadata": {
    "id": "61mcsacPg4j7"
   },
   "outputs": [],
   "source": [
    "#importing libraries\n",
    "import os\n",
    "import pandas as pd\n",
    "import numpy as np\n",
    "from sklearn.metrics import confusion_matrix,plot_confusion_matrix,classification_report\n",
    "import seaborn as sns\n",
    "import matplotlib.pyplot as plt\n",
    "import seaborn as sns\n",
    "from sklearn.metrics import accuracy_score,precision_score,recall_score,f1_score\n",
    "from sklearn.metrics import plot_roc_curve,roc_curve, roc_auc_score,auc\n",
    "from sklearn.model_selection import train_test_split\n",
    "from sklearn.linear_model import LogisticRegression\n",
    "from skimage import io\n",
    "from skimage.color import rgb2gray\n",
    "from skimage.transform import resize"
   ]
  },
  {
   "cell_type": "code",
   "execution_count": 2,
   "metadata": {
    "colab": {
     "base_uri": "https://localhost:8080/"
    },
    "id": "bAqJD_LPg4j9",
    "outputId": "b696bad2-6047-4f52-cf77-03ed41208883"
   },
   "outputs": [
    {
     "name": "stdout",
     "output_type": "stream",
     "text": [
      "Requirement already satisfied: tensorflow in /usr/local/lib/python3.7/dist-packages (2.6.0)\n",
      "Requirement already satisfied: flatbuffers~=1.12.0 in /usr/local/lib/python3.7/dist-packages (from tensorflow) (1.12)\n",
      "Requirement already satisfied: google-pasta~=0.2 in /usr/local/lib/python3.7/dist-packages (from tensorflow) (0.2.0)\n",
      "Requirement already satisfied: keras~=2.6 in /usr/local/lib/python3.7/dist-packages (from tensorflow) (2.6.0)\n",
      "Requirement already satisfied: numpy~=1.19.2 in /usr/local/lib/python3.7/dist-packages (from tensorflow) (1.19.5)\n",
      "Requirement already satisfied: opt-einsum~=3.3.0 in /usr/local/lib/python3.7/dist-packages (from tensorflow) (3.3.0)\n",
      "Requirement already satisfied: gast==0.4.0 in /usr/local/lib/python3.7/dist-packages (from tensorflow) (0.4.0)\n",
      "Requirement already satisfied: wrapt~=1.12.1 in /usr/local/lib/python3.7/dist-packages (from tensorflow) (1.12.1)\n",
      "Requirement already satisfied: six~=1.15.0 in /usr/local/lib/python3.7/dist-packages (from tensorflow) (1.15.0)\n",
      "Requirement already satisfied: astunparse~=1.6.3 in /usr/local/lib/python3.7/dist-packages (from tensorflow) (1.6.3)\n",
      "Requirement already satisfied: tensorflow-estimator~=2.6 in /usr/local/lib/python3.7/dist-packages (from tensorflow) (2.6.0)\n",
      "Requirement already satisfied: protobuf>=3.9.2 in /usr/local/lib/python3.7/dist-packages (from tensorflow) (3.17.3)\n",
      "Requirement already satisfied: termcolor~=1.1.0 in /usr/local/lib/python3.7/dist-packages (from tensorflow) (1.1.0)\n",
      "Requirement already satisfied: wheel~=0.35 in /usr/local/lib/python3.7/dist-packages (from tensorflow) (0.37.0)\n",
      "Requirement already satisfied: grpcio<2.0,>=1.37.0 in /usr/local/lib/python3.7/dist-packages (from tensorflow) (1.41.0)\n",
      "Requirement already satisfied: keras-preprocessing~=1.1.2 in /usr/local/lib/python3.7/dist-packages (from tensorflow) (1.1.2)\n",
      "Requirement already satisfied: h5py~=3.1.0 in /usr/local/lib/python3.7/dist-packages (from tensorflow) (3.1.0)\n",
      "Requirement already satisfied: tensorboard~=2.6 in /usr/local/lib/python3.7/dist-packages (from tensorflow) (2.6.0)\n",
      "Requirement already satisfied: typing-extensions~=3.7.4 in /usr/local/lib/python3.7/dist-packages (from tensorflow) (3.7.4.3)\n",
      "Requirement already satisfied: absl-py~=0.10 in /usr/local/lib/python3.7/dist-packages (from tensorflow) (0.12.0)\n",
      "Requirement already satisfied: clang~=5.0 in /usr/local/lib/python3.7/dist-packages (from tensorflow) (5.0)\n",
      "Requirement already satisfied: cached-property in /usr/local/lib/python3.7/dist-packages (from h5py~=3.1.0->tensorflow) (1.5.2)\n",
      "Requirement already satisfied: werkzeug>=0.11.15 in /usr/local/lib/python3.7/dist-packages (from tensorboard~=2.6->tensorflow) (1.0.1)\n",
      "Requirement already satisfied: tensorboard-plugin-wit>=1.6.0 in /usr/local/lib/python3.7/dist-packages (from tensorboard~=2.6->tensorflow) (1.8.0)\n",
      "Requirement already satisfied: setuptools>=41.0.0 in /usr/local/lib/python3.7/dist-packages (from tensorboard~=2.6->tensorflow) (57.4.0)\n",
      "Requirement already satisfied: markdown>=2.6.8 in /usr/local/lib/python3.7/dist-packages (from tensorboard~=2.6->tensorflow) (3.3.4)\n",
      "Requirement already satisfied: requests<3,>=2.21.0 in /usr/local/lib/python3.7/dist-packages (from tensorboard~=2.6->tensorflow) (2.23.0)\n",
      "Requirement already satisfied: tensorboard-data-server<0.7.0,>=0.6.0 in /usr/local/lib/python3.7/dist-packages (from tensorboard~=2.6->tensorflow) (0.6.1)\n",
      "Requirement already satisfied: google-auth-oauthlib<0.5,>=0.4.1 in /usr/local/lib/python3.7/dist-packages (from tensorboard~=2.6->tensorflow) (0.4.6)\n",
      "Requirement already satisfied: google-auth<2,>=1.6.3 in /usr/local/lib/python3.7/dist-packages (from tensorboard~=2.6->tensorflow) (1.35.0)\n",
      "Requirement already satisfied: cachetools<5.0,>=2.0.0 in /usr/local/lib/python3.7/dist-packages (from google-auth<2,>=1.6.3->tensorboard~=2.6->tensorflow) (4.2.4)\n",
      "Requirement already satisfied: rsa<5,>=3.1.4 in /usr/local/lib/python3.7/dist-packages (from google-auth<2,>=1.6.3->tensorboard~=2.6->tensorflow) (4.7.2)\n",
      "Requirement already satisfied: pyasn1-modules>=0.2.1 in /usr/local/lib/python3.7/dist-packages (from google-auth<2,>=1.6.3->tensorboard~=2.6->tensorflow) (0.2.8)\n",
      "Requirement already satisfied: requests-oauthlib>=0.7.0 in /usr/local/lib/python3.7/dist-packages (from google-auth-oauthlib<0.5,>=0.4.1->tensorboard~=2.6->tensorflow) (1.3.0)\n",
      "Requirement already satisfied: importlib-metadata in /usr/local/lib/python3.7/dist-packages (from markdown>=2.6.8->tensorboard~=2.6->tensorflow) (4.8.1)\n",
      "Requirement already satisfied: pyasn1<0.5.0,>=0.4.6 in /usr/local/lib/python3.7/dist-packages (from pyasn1-modules>=0.2.1->google-auth<2,>=1.6.3->tensorboard~=2.6->tensorflow) (0.4.8)\n",
      "Requirement already satisfied: chardet<4,>=3.0.2 in /usr/local/lib/python3.7/dist-packages (from requests<3,>=2.21.0->tensorboard~=2.6->tensorflow) (3.0.4)\n",
      "Requirement already satisfied: urllib3!=1.25.0,!=1.25.1,<1.26,>=1.21.1 in /usr/local/lib/python3.7/dist-packages (from requests<3,>=2.21.0->tensorboard~=2.6->tensorflow) (1.24.3)\n",
      "Requirement already satisfied: idna<3,>=2.5 in /usr/local/lib/python3.7/dist-packages (from requests<3,>=2.21.0->tensorboard~=2.6->tensorflow) (2.10)\n",
      "Requirement already satisfied: certifi>=2017.4.17 in /usr/local/lib/python3.7/dist-packages (from requests<3,>=2.21.0->tensorboard~=2.6->tensorflow) (2021.5.30)\n",
      "Requirement already satisfied: oauthlib>=3.0.0 in /usr/local/lib/python3.7/dist-packages (from requests-oauthlib>=0.7.0->google-auth-oauthlib<0.5,>=0.4.1->tensorboard~=2.6->tensorflow) (3.1.1)\n",
      "Requirement already satisfied: zipp>=0.5 in /usr/local/lib/python3.7/dist-packages (from importlib-metadata->markdown>=2.6.8->tensorboard~=2.6->tensorflow) (3.6.0)\n"
     ]
    }
   ],
   "source": [
    "pip install tensorflow"
   ]
  },
  {
   "cell_type": "code",
   "execution_count": 3,
   "metadata": {
    "id": "MbLPxhS9g4j-"
   },
   "outputs": [],
   "source": [
    "import tensorflow as tf\n",
    "import tensorflow.keras\n",
    "from tensorflow.keras.models import Model\n",
    "from tensorflow.keras.layers import Dense, Flatten, Conv2D, MaxPooling2D, Dropout, BatchNormalization"
   ]
  },
  {
   "cell_type": "markdown",
   "metadata": {
    "id": "8EaDqU6Rg4j-"
   },
   "source": [
    "Evaluation function"
   ]
  },
  {
   "cell_type": "code",
   "execution_count": 4,
   "metadata": {
    "id": "x2LyYTvSg4j-"
   },
   "outputs": [],
   "source": [
    "def model_Evaluate(y_test,y_pred):\n",
    "    # Print the evaluation metrics for the dataset.\n",
    "    f1=f1_score(y_test, y_pred, average='weighted')\n",
    "    print(\"f1_score:\",f1)\n",
    "    print(classification_report(y_test, y_pred))\n",
    "    from sklearn.metrics import confusion_matrix\n",
    "    conf_mx = confusion_matrix(np.array(y_test), y_predict)\n",
    "    print('Confusion matrix: \\n{0}'.format(conf_mx))\n",
    "    return f1"
   ]
  },
  {
   "cell_type": "code",
   "execution_count": 5,
   "metadata": {
    "id": "CE-o8N3Wg4j_"
   },
   "outputs": [],
   "source": [
    "#show image\n",
    "def show(img):\n",
    "    io.imshow(img)\n",
    "    plt.show()"
   ]
  },
  {
   "cell_type": "code",
   "execution_count": 6,
   "metadata": {
    "id": "TKDWzkZQg4kA"
   },
   "outputs": [],
   "source": [
    "#read the files\n",
    "def readimgs(path):\n",
    "    file = os.listdir(path)\n",
    "    files = []\n",
    "    for img in file:\n",
    "        fullPath = os.path.join(path, img)\n",
    "        if os.path.isdir(fullPath):\n",
    "            files = files + readimgs(fullPath)\n",
    "        else:\n",
    "            files.append(fullPath)              \n",
    "    return files        \n"
   ]
  },
  {
   "cell_type": "markdown",
   "metadata": {
    "id": "Whjm5TjNg4kA"
   },
   "source": [
    "\n",
    "# read the data\n"
   ]
  },
  {
   "cell_type": "code",
   "execution_count": 8,
   "metadata": {
    "id": "x_p4foiEg4kB"
   },
   "outputs": [],
   "source": [
    "path=r'file/training'\n",
    "imgs = readimgs(path)\n",
    "x_trainn = [io.imread(file) for file in imgs]"
   ]
  },
  {
   "cell_type": "code",
   "execution_count": 9,
   "metadata": {
    "id": "C2_lVgXwg4kB"
   },
   "outputs": [],
   "source": [
    "path=r'file/testing'\n",
    "imgs_test = readimgs(path)\n",
    "x_testt = [io.imread(file) for file in imgs_test]"
   ]
  },
  {
   "cell_type": "code",
   "execution_count": 10,
   "metadata": {
    "id": "2inueAv_uIqV"
   },
   "outputs": [],
   "source": [
    "batchSize = 128\n",
    "nEpochs = 32\n",
    "size=32"
   ]
  },
  {
   "cell_type": "markdown",
   "metadata": {
    "id": "tk-Mscl8g4kC"
   },
   "source": [
    "# labeled the data"
   ]
  },
  {
   "cell_type": "code",
   "execution_count": 11,
   "metadata": {
    "id": "dNUT6eGbg4kC"
   },
   "outputs": [],
   "source": [
    "#fiels' name\n",
    "label=[1,2,3,4,6]\n",
    "# labeld each image with the file name\n",
    "y_train=[]\n",
    "x=0\n",
    "for j in label:\n",
    "    for i in range(0+x,180+x):\n",
    "        y_train.append(j)\n",
    "    x=x+30\n",
    "y_train=np.array(y_train)"
   ]
  },
  {
   "cell_type": "code",
   "execution_count": 12,
   "metadata": {
    "id": "VZdchqr0g4kE"
   },
   "outputs": [],
   "source": [
    "y_test=[]\n",
    "x=0\n",
    "for j in label:\n",
    "    for i in range(0+x,20+x):\n",
    "        y_test.append(j)\n",
    "    x=x+20\n",
    "y_test=np.array(y_test)"
   ]
  },
  {
   "cell_type": "markdown",
   "metadata": {
    "id": "m9BgGNXBg4kE"
   },
   "source": [
    "# resize the data"
   ]
  },
  {
   "cell_type": "code",
   "execution_count": 13,
   "metadata": {
    "id": "vJdw4eFkg4kE"
   },
   "outputs": [],
   "source": [
    "x_test=[]\n",
    "for i in range(len(x_testt)):\n",
    "    x_test.append(resize(x_testt[i], (size, size),anti_aliasing=True))\n",
    "x_test=np.array(x_test)"
   ]
  },
  {
   "cell_type": "code",
   "execution_count": 14,
   "metadata": {
    "id": "So1AZcC5g4kF"
   },
   "outputs": [],
   "source": [
    "x_train=[]\n",
    "for i in range(len(x_trainn)):\n",
    "    x_train.append(resize(x_trainn[i], (size, size),anti_aliasing=True))\n",
    "x_train=np.array(x_train)"
   ]
  },
  {
   "cell_type": "code",
   "execution_count": 15,
   "metadata": {
    "colab": {
     "base_uri": "https://localhost:8080/"
    },
    "id": "oEv1XasKg4kF",
    "outputId": "98d229a5-d258-48ff-ec16-67f1bb666769"
   },
   "outputs": [
    {
     "data": {
      "text/plain": [
       "(32, 32, 3)"
      ]
     },
     "execution_count": 15,
     "metadata": {},
     "output_type": "execute_result"
    }
   ],
   "source": [
    "x_train[0].shape"
   ]
  },
  {
   "cell_type": "markdown",
   "metadata": {
    "id": "Iw0vvnEpg4kF"
   },
   "source": [
    "# split the data"
   ]
  },
  {
   "cell_type": "code",
   "execution_count": 16,
   "metadata": {
    "id": "SR1gXU1Kg4kG"
   },
   "outputs": [],
   "source": [
    "from sklearn.model_selection import train_test_split\n",
    "x_train, x_valid, y_train, y_valid = train_test_split(x_train, y_train, test_size=0.30, random_state=42, shuffle=True, stratify=y_train)"
   ]
  },
  {
   "cell_type": "code",
   "execution_count": 17,
   "metadata": {
    "colab": {
     "base_uri": "https://localhost:8080/"
    },
    "id": "ToMmSww6g4kG",
    "outputId": "f6494987-d7cf-4e48-8094-551f2aed50db"
   },
   "outputs": [
    {
     "name": "stdout",
     "output_type": "stream",
     "text": [
      "number of training images :  630  number of validation images :  270  number of testing images :  100\n"
     ]
    }
   ],
   "source": [
    "print(\"number of training images : \",len(x_train),\" number of validation images : \",len(x_valid),\" number of testing images : \",len(x_test))"
   ]
  },
  {
   "cell_type": "markdown",
   "metadata": {
    "id": "GaYfScp6g4kG"
   },
   "source": [
    "# penarize the lable"
   ]
  },
  {
   "cell_type": "code",
   "execution_count": 18,
   "metadata": {
    "id": "0bmulvqCg4kG"
   },
   "outputs": [],
   "source": [
    "nClasses = 7\n",
    "# Use Keras' handy utils\n",
    "y_train_k = tensorflow.keras.utils.to_categorical(y_train, num_classes=nClasses)\n",
    "y_valid_k = tensorflow.keras.utils.to_categorical(y_valid, num_classes=nClasses)\n",
    "y_test_k = tensorflow.keras.utils.to_categorical(y_test, num_classes=nClasses)"
   ]
  },
  {
   "cell_type": "code",
   "execution_count": 19,
   "metadata": {
    "colab": {
     "base_uri": "https://localhost:8080/"
    },
    "id": "aax76d2PIR3a",
    "outputId": "c20706c6-0283-449b-894a-8a3c428502eb"
   },
   "outputs": [
    {
     "name": "stdout",
     "output_type": "stream",
     "text": [
      "number of training images :  630  number of validation images :  270  number of testing images :  100\n"
     ]
    }
   ],
   "source": [
    "print(\"number of training images : \",len(y_train_k),\" number of validation images : \",len(y_valid_k),\" number of testing images : \",len(y_test_k))"
   ]
  },
  {
   "cell_type": "code",
   "execution_count": 20,
   "metadata": {
    "colab": {
     "base_uri": "https://localhost:8080/",
     "height": 296
    },
    "id": "fkS3G70mg4kH",
    "outputId": "49de1806-833d-4659-afee-0074737c2e74"
   },
   "outputs": [
    {
     "data": {
      "image/png": "[encoded data removed]",
      "text/plain": [
       "<Figure size 432x288 with 1 Axes>"
      ]
     },
     "metadata": {
      "needs_background": "light"
     },
     "output_type": "display_data"
    }
   ],
   "source": [
    "# Read the images \n",
    "show(x_test[15])"
   ]
  },
  {
   "cell_type": "markdown",
   "metadata": {
    "id": "c7fDv3A9g4kH"
   },
   "source": [
    "# import VGG16"
   ]
  },
  {
   "cell_type": "code",
   "execution_count": 21,
   "metadata": {
    "colab": {
     "base_uri": "https://localhost:8080/"
    },
    "id": "RAwcPHitg4kH",
    "outputId": "58b89730-2546-4ec1-c0d0-7f589e120645"
   },
   "outputs": [
    {
     "name": "stdout",
     "output_type": "stream",
     "text": [
      "Downloading data from https://storage.googleapis.com/tensorflow/keras-applications/vgg16/vgg16_weights_tf_dim_ordering_tf_kernels_notop.h5\n",
      "58892288/58889256 [==============================] - 1s 0us/step\n",
      "58900480/58889256 [==============================] - 1s 0us/step\n"
     ]
    }
   ],
   "source": [
    "from tensorflow.keras.applications import VGG16\n",
    " \n",
    "vgg_model = VGG16(weights='imagenet',\n",
    "                  include_top=False,\n",
    "                  input_shape=(size, size, 3))"
   ]
  },
  {
   "cell_type": "code",
   "execution_count": 22,
   "metadata": {
    "colab": {
     "base_uri": "https://localhost:8080/"
    },
    "id": "Ou7KYYwgg4kH",
    "outputId": "83415348-a0fb-40b1-e1cb-ae734ba0effe"
   },
   "outputs": [
    {
     "name": "stdout",
     "output_type": "stream",
     "text": [
      "Model: \"vgg16\"\n",
      "_________________________________________________________________\n",
      "Layer (type)                 Output Shape              Param #   \n",
      "=================================================================\n",
      "input_1 (InputLayer)         [(None, 32, 32, 3)]       0         \n",
      "_________________________________________________________________\n",
      "block1_conv1 (Conv2D)        (None, 32, 32, 64)        1792      \n",
      "_________________________________________________________________\n",
      "block1_conv2 (Conv2D)        (None, 32, 32, 64)        36928     \n",
      "_________________________________________________________________\n",
      "block1_pool (MaxPooling2D)   (None, 16, 16, 64)        0         \n",
      "_________________________________________________________________\n",
      "block2_conv1 (Conv2D)        (None, 16, 16, 128)       73856     \n",
      "_________________________________________________________________\n",
      "block2_conv2 (Conv2D)        (None, 16, 16, 128)       147584    \n",
      "_________________________________________________________________\n",
      "block2_pool (MaxPooling2D)   (None, 8, 8, 128)         0         \n",
      "_________________________________________________________________\n",
      "block3_conv1 (Conv2D)        (None, 8, 8, 256)         295168    \n",
      "_________________________________________________________________\n",
      "block3_conv2 (Conv2D)        (None, 8, 8, 256)         590080    \n",
      "_________________________________________________________________\n",
      "block3_conv3 (Conv2D)        (None, 8, 8, 256)         590080    \n",
      "_________________________________________________________________\n",
      "block3_pool (MaxPooling2D)   (None, 4, 4, 256)         0         \n",
      "_________________________________________________________________\n",
      "block4_conv1 (Conv2D)        (None, 4, 4, 512)         1180160   \n",
      "_________________________________________________________________\n",
      "block4_conv2 (Conv2D)        (None, 4, 4, 512)         2359808   \n",
      "_________________________________________________________________\n",
      "block4_conv3 (Conv2D)        (None, 4, 4, 512)         2359808   \n",
      "_________________________________________________________________\n",
      "block4_pool (MaxPooling2D)   (None, 2, 2, 512)         0         \n",
      "_________________________________________________________________\n",
      "block5_conv1 (Conv2D)        (None, 2, 2, 512)         2359808   \n",
      "_________________________________________________________________\n",
      "block5_conv2 (Conv2D)        (None, 2, 2, 512)         2359808   \n",
      "_________________________________________________________________\n",
      "block5_conv3 (Conv2D)        (None, 2, 2, 512)         2359808   \n",
      "_________________________________________________________________\n",
      "block5_pool (MaxPooling2D)   (None, 1, 1, 512)         0         \n",
      "=================================================================\n",
      "Total params: 14,714,688\n",
      "Trainable params: 14,714,688\n",
      "Non-trainable params: 0\n",
      "_________________________________________________________________\n",
      "None\n"
     ]
    }
   ],
   "source": [
    "print(vgg_model.summary())"
   ]
  },
  {
   "cell_type": "markdown",
   "metadata": {
    "id": "ECtjbx2_g4kI"
   },
   "source": [
    "# cut the VGG16"
   ]
  },
  {
   "cell_type": "code",
   "execution_count": 23,
   "metadata": {
    "id": "hmo7IFopg4kI"
   },
   "outputs": [],
   "source": [
    "# cut all layers after 'block2_pool'\n",
    "my_cnn = Model(inputs=vgg_model.input, outputs=vgg_model.get_layer(\"block2_pool\").output)"
   ]
  },
  {
   "cell_type": "code",
   "execution_count": 24,
   "metadata": {
    "colab": {
     "base_uri": "https://localhost:8080/"
    },
    "id": "LLVdmG_Tg4kI",
    "outputId": "9734eaaf-638b-46c0-89d0-e65571efcfa1"
   },
   "outputs": [
    {
     "name": "stdout",
     "output_type": "stream",
     "text": [
      "Model: \"model\"\n",
      "_________________________________________________________________\n",
      "Layer (type)                 Output Shape              Param #   \n",
      "=================================================================\n",
      "input_1 (InputLayer)         [(None, 32, 32, 3)]       0         \n",
      "_________________________________________________________________\n",
      "block1_conv1 (Conv2D)        (None, 32, 32, 64)        1792      \n",
      "_________________________________________________________________\n",
      "block1_conv2 (Conv2D)        (None, 32, 32, 64)        36928     \n",
      "_________________________________________________________________\n",
      "block1_pool (MaxPooling2D)   (None, 16, 16, 64)        0         \n",
      "_________________________________________________________________\n",
      "block2_conv1 (Conv2D)        (None, 16, 16, 128)       73856     \n",
      "_________________________________________________________________\n",
      "block2_conv2 (Conv2D)        (None, 16, 16, 128)       147584    \n",
      "_________________________________________________________________\n",
      "block2_pool (MaxPooling2D)   (None, 8, 8, 128)         0         \n",
      "=================================================================\n",
      "Total params: 260,160\n",
      "Trainable params: 260,160\n",
      "Non-trainable params: 0\n",
      "_________________________________________________________________\n",
      "None\n"
     ]
    }
   ],
   "source": [
    "print(my_cnn.summary())"
   ]
  },
  {
   "cell_type": "markdown",
   "metadata": {
    "id": "sFjV8XOQg4kI"
   },
   "source": [
    "# classification"
   ]
  },
  {
   "cell_type": "code",
   "execution_count": 25,
   "metadata": {
    "id": "MpZXhpRsll3e"
   },
   "outputs": [],
   "source": [
    "f1=[]\n",
    "model=['classification','regression']"
   ]
  },
  {
   "cell_type": "code",
   "execution_count": 26,
   "metadata": {
    "id": "3siPGvQbg4kI"
   },
   "outputs": [],
   "source": [
    "for layer in my_cnn.layers:\n",
    "    layer.trainable = False \n",
    "# last layers output\n",
    "x = my_cnn.layers[-1].output\n",
    "# Flatten as before\n",
    "x = Flatten()(x)\n",
    "x = Dense(256, activation='relu')(x)\n",
    "x = Dense(7, activation='softmax')(x)\n",
    "\n",
    "#x = Conv2D(64, kernel_size=(3, 3), activation='relu')(x)\n",
    "#x = MaxPooling2D(pool_size=(2, 2))(x)\n",
    "\n",
    "\n",
    "from tensorflow.keras.models import Model\n",
    "model_transfer = Model(inputs=my_cnn.input, outputs=x)"
   ]
  },
  {
   "cell_type": "code",
   "execution_count": 27,
   "metadata": {
    "colab": {
     "base_uri": "https://localhost:8080/"
    },
    "id": "FwMmf87yg4kI",
    "outputId": "02a3391a-8651-4366-fbc3-3cb41aec2daa"
   },
   "outputs": [
    {
     "name": "stdout",
     "output_type": "stream",
     "text": [
      "Model: \"model_1\"\n",
      "_________________________________________________________________\n",
      "Layer (type)                 Output Shape              Param #   \n",
      "=================================================================\n",
      "input_1 (InputLayer)         [(None, 32, 32, 3)]       0         \n",
      "_________________________________________________________________\n",
      "block1_conv1 (Conv2D)        (None, 32, 32, 64)        1792      \n",
      "_________________________________________________________________\n",
      "block1_conv2 (Conv2D)        (None, 32, 32, 64)        36928     \n",
      "_________________________________________________________________\n",
      "block1_pool (MaxPooling2D)   (None, 16, 16, 64)        0         \n",
      "_________________________________________________________________\n",
      "block2_conv1 (Conv2D)        (None, 16, 16, 128)       73856     \n",
      "_________________________________________________________________\n",
      "block2_conv2 (Conv2D)        (None, 16, 16, 128)       147584    \n",
      "_________________________________________________________________\n",
      "block2_pool (MaxPooling2D)   (None, 8, 8, 128)         0         \n",
      "_________________________________________________________________\n",
      "flatten (Flatten)            (None, 8192)              0         \n",
      "_________________________________________________________________\n",
      "dense (Dense)                (None, 256)               2097408   \n",
      "_________________________________________________________________\n",
      "dense_1 (Dense)              (None, 7)                 1799      \n",
      "=================================================================\n",
      "Total params: 2,359,367\n",
      "Trainable params: 2,099,207\n",
      "Non-trainable params: 260,160\n",
      "_________________________________________________________________\n",
      "None\n"
     ]
    }
   ],
   "source": [
    "print(model_transfer.summary())"
   ]
  },
  {
   "cell_type": "code",
   "execution_count": 28,
   "metadata": {
    "colab": {
     "base_uri": "https://localhost:8080/"
    },
    "id": "OVMl5jQzg4kJ",
    "outputId": "f5d15e3c-b18c-44ab-ad99-9275b869b44a"
   },
   "outputs": [
    {
     "name": "stderr",
     "output_type": "stream",
     "text": [
      "/usr/local/lib/python3.7/dist-packages/keras/optimizer_v2/optimizer_v2.py:356: UserWarning: The `lr` argument is deprecated, use `learning_rate` instead.\n",
      "  \"The `lr` argument is deprecated, use `learning_rate` instead.\")\n"
     ]
    },
    {
     "name": "stdout",
     "output_type": "stream",
     "text": [
      "Epoch 1/32\n",
      "5/5 [==============================] - 4s 766ms/step - loss: 43.7391 - accuracy: 0.1730 - val_loss: 32.0164 - val_accuracy: 0.2000\n",
      "Epoch 2/32\n",
      "5/5 [==============================] - 3s 714ms/step - loss: 16.9994 - accuracy: 0.1968 - val_loss: 5.3395 - val_accuracy: 0.2000\n",
      "Epoch 3/32\n",
      "5/5 [==============================] - 3s 704ms/step - loss: 4.1838 - accuracy: 0.2444 - val_loss: 2.2272 - val_accuracy: 0.2556\n",
      "Epoch 4/32\n",
      "5/5 [==============================] - 3s 702ms/step - loss: 1.9394 - accuracy: 0.3286 - val_loss: 2.0232 - val_accuracy: 0.2926\n",
      "Epoch 5/32\n",
      "5/5 [==============================] - 3s 710ms/step - loss: 1.7484 - accuracy: 0.3492 - val_loss: 2.0096 - val_accuracy: 0.2444\n",
      "Epoch 6/32\n",
      "5/5 [==============================] - 3s 704ms/step - loss: 1.4229 - accuracy: 0.4286 - val_loss: 1.8352 - val_accuracy: 0.3074\n",
      "Epoch 7/32\n",
      "5/5 [==============================] - 3s 700ms/step - loss: 1.3497 - accuracy: 0.4683 - val_loss: 1.8611 - val_accuracy: 0.2852\n",
      "Epoch 8/32\n",
      "5/5 [==============================] - 3s 699ms/step - loss: 1.3130 - accuracy: 0.4540 - val_loss: 1.8141 - val_accuracy: 0.3148\n",
      "Epoch 9/32\n",
      "5/5 [==============================] - 3s 700ms/step - loss: 1.2187 - accuracy: 0.5095 - val_loss: 1.8091 - val_accuracy: 0.3000\n",
      "Epoch 10/32\n",
      "5/5 [==============================] - 3s 697ms/step - loss: 1.1323 - accuracy: 0.5651 - val_loss: 1.7528 - val_accuracy: 0.3074\n",
      "Epoch 11/32\n",
      "5/5 [==============================] - 3s 701ms/step - loss: 1.1129 - accuracy: 0.5556 - val_loss: 1.8140 - val_accuracy: 0.3000\n",
      "Epoch 12/32\n",
      "5/5 [==============================] - 3s 701ms/step - loss: 1.0758 - accuracy: 0.5921 - val_loss: 1.8145 - val_accuracy: 0.3185\n",
      "Epoch 13/32\n",
      "5/5 [==============================] - 3s 704ms/step - loss: 1.0346 - accuracy: 0.5984 - val_loss: 1.7431 - val_accuracy: 0.3074\n",
      "Epoch 14/32\n",
      "5/5 [==============================] - 3s 694ms/step - loss: 0.9951 - accuracy: 0.6079 - val_loss: 1.9574 - val_accuracy: 0.3296\n",
      "Epoch 15/32\n",
      "5/5 [==============================] - 3s 705ms/step - loss: 0.9680 - accuracy: 0.6270 - val_loss: 1.7727 - val_accuracy: 0.3148\n",
      "Epoch 16/32\n",
      "5/5 [==============================] - 3s 708ms/step - loss: 0.9158 - accuracy: 0.6667 - val_loss: 1.7372 - val_accuracy: 0.3148\n",
      "Epoch 17/32\n",
      "5/5 [==============================] - 3s 698ms/step - loss: 0.8674 - accuracy: 0.6730 - val_loss: 1.7518 - val_accuracy: 0.3148\n",
      "Epoch 18/32\n",
      "5/5 [==============================] - 3s 707ms/step - loss: 0.8128 - accuracy: 0.6905 - val_loss: 1.7509 - val_accuracy: 0.3370\n",
      "Epoch 19/32\n",
      "5/5 [==============================] - 3s 706ms/step - loss: 0.7955 - accuracy: 0.7270 - val_loss: 1.7302 - val_accuracy: 0.3148\n",
      "Epoch 20/32\n",
      "5/5 [==============================] - 3s 696ms/step - loss: 0.7566 - accuracy: 0.7429 - val_loss: 1.8498 - val_accuracy: 0.3111\n",
      "Epoch 21/32\n",
      "5/5 [==============================] - 3s 705ms/step - loss: 0.7894 - accuracy: 0.7254 - val_loss: 1.7387 - val_accuracy: 0.3333\n",
      "Epoch 22/32\n",
      "5/5 [==============================] - 3s 705ms/step - loss: 0.7481 - accuracy: 0.7397 - val_loss: 1.7565 - val_accuracy: 0.3333\n",
      "Epoch 23/32\n",
      "5/5 [==============================] - 3s 698ms/step - loss: 0.6961 - accuracy: 0.7698 - val_loss: 1.7733 - val_accuracy: 0.3148\n",
      "Epoch 24/32\n",
      "5/5 [==============================] - 3s 746ms/step - loss: 0.7032 - accuracy: 0.7714 - val_loss: 1.8899 - val_accuracy: 0.3407\n",
      "Epoch 25/32\n",
      "5/5 [==============================] - 4s 779ms/step - loss: 0.6582 - accuracy: 0.7794 - val_loss: 1.7136 - val_accuracy: 0.3333\n",
      "Epoch 26/32\n",
      "5/5 [==============================] - 4s 904ms/step - loss: 0.6383 - accuracy: 0.8016 - val_loss: 1.8175 - val_accuracy: 0.3185\n",
      "Epoch 27/32\n",
      "5/5 [==============================] - 4s 715ms/step - loss: 0.6183 - accuracy: 0.8095 - val_loss: 1.8081 - val_accuracy: 0.3519\n",
      "Epoch 28/32\n",
      "5/5 [==============================] - 3s 709ms/step - loss: 0.5997 - accuracy: 0.8159 - val_loss: 1.7682 - val_accuracy: 0.3074\n",
      "Epoch 29/32\n",
      "5/5 [==============================] - 3s 704ms/step - loss: 0.6003 - accuracy: 0.8254 - val_loss: 1.7369 - val_accuracy: 0.3333\n",
      "Epoch 30/32\n",
      "5/5 [==============================] - 3s 699ms/step - loss: 0.5620 - accuracy: 0.8302 - val_loss: 1.7832 - val_accuracy: 0.3111\n",
      "Epoch 31/32\n",
      "5/5 [==============================] - 3s 708ms/step - loss: 0.5590 - accuracy: 0.8317 - val_loss: 1.7482 - val_accuracy: 0.3222\n",
      "Epoch 32/32\n",
      "5/5 [==============================] - 3s 702ms/step - loss: 0.5203 - accuracy: 0.8683 - val_loss: 1.7919 - val_accuracy: 0.3407\n"
     ]
    }
   ],
   "source": [
    "\n",
    "sgd = tensorflow.keras.optimizers.SGD(lr=0.0008)\n",
    "model_transfer.compile(loss='categorical_crossentropy', \n",
    "                           optimizer=sgd, \n",
    "                           metrics=['accuracy'])\n",
    "\n",
    "history = model_transfer.fit(x_train, y_train_k, batch_size=batchSize, epochs=nEpochs, verbose=1,validation_data=( x_valid,  y_valid_k))\n"
   ]
  },
  {
   "cell_type": "code",
   "execution_count": 29,
   "metadata": {
    "colab": {
     "base_uri": "https://localhost:8080/",
     "height": 295
    },
    "id": "l3P-5Zd9g4kJ",
    "outputId": "f1650d61-0e83-49ef-99f8-165fdd25a377"
   },
   "outputs": [
    {
     "data": {
      "image/png": "[encoded data removed]",
      "text/plain": [
       "<Figure size 432x288 with 1 Axes>"
      ]
     },
     "metadata": {
      "needs_background": "light"
     },
     "output_type": "display_data"
    }
   ],
   "source": [
    "# dictionary keys seems to have changed in version 2\n",
    "k = ''\n",
    "if 'accuracy' in history.history :\n",
    "    k = 'accuracy'    \n",
    "\n",
    "if 'acc' in history.history :\n",
    "    k = 'acc'\n",
    "    \n",
    "if k != '' :    \n",
    "    plt.plot(history.history[k])\n",
    "    plt.plot(history.history['val_'+k])\n",
    "    plt.title('Model Accuracy')\n",
    "    plt.ylabel('Accuracy')\n",
    "    plt.xlabel('Epoch')\n",
    "    plt.legend(['train', 'valid'], loc='upper left')\n",
    "    plt.show()\n"
   ]
  },
  {
   "cell_type": "markdown",
   "metadata": {
    "id": "vs8OwnlVWFj8"
   },
   "source": [
    "the model is overfitting because it is get high accuracy on the training data and faild to predict the validation."
   ]
  },
  {
   "cell_type": "code",
   "execution_count": 30,
   "metadata": {
    "colab": {
     "base_uri": "https://localhost:8080/",
     "height": 295
    },
    "id": "z8KnBVOkg4kJ",
    "outputId": "1b1fe350-80fa-49da-9f1c-bb11f6fcbef0"
   },
   "outputs": [
    {
     "data": {
      "image/png": "[encoded data removed]",
      "text/plain": [
       "<Figure size 432x288 with 1 Axes>"
      ]
     },
     "metadata": {
      "needs_background": "light"
     },
     "output_type": "display_data"
    }
   ],
   "source": [
    "plt.plot(history.history['loss'])\n",
    "plt.plot(history.history['val_loss'])\n",
    "plt.title('Model loss')\n",
    "plt.ylabel('Loss')\n",
    "plt.xlabel('Epoch')\n",
    "plt.legend(['train', 'test'], loc='upper left')\n",
    "plt.show()\n"
   ]
  },
  {
   "cell_type": "markdown",
   "metadata": {
    "id": "9zHQZkhnj4wW"
   },
   "source": [
    "the loss decrease with increasing the number of epoches"
   ]
  },
  {
   "cell_type": "code",
   "execution_count": 31,
   "metadata": {
    "id": "8BdaIfGug4kK"
   },
   "outputs": [],
   "source": [
    "y_predict_prob = model_transfer.predict(np.array(x_test))"
   ]
  },
  {
   "cell_type": "code",
   "execution_count": 32,
   "metadata": {
    "id": "PiheapLcg4kK"
   },
   "outputs": [],
   "source": [
    "y_predict = y_predict_prob.argmax(axis=-1)"
   ]
  },
  {
   "cell_type": "code",
   "execution_count": 33,
   "metadata": {
    "colab": {
     "base_uri": "https://localhost:8080/"
    },
    "id": "5yD-Lw_c6GGS",
    "outputId": "12969746-7f2d-4bca-f89c-e2e4032f37ea"
   },
   "outputs": [
    {
     "data": {
      "text/plain": [
       "array([1, 6, 2, 6, 3, 2, 1, 3, 2, 1, 3, 1, 2, 3, 2, 2, 4, 1, 2, 1, 2, 4,\n",
       "       6, 2, 1, 1, 1, 1, 4, 2, 1, 2, 6, 6, 3, 1, 3, 6, 6, 3, 6, 6, 6, 4,\n",
       "       3, 6, 6, 1, 3, 4, 6, 1, 3, 6, 6, 6, 1, 4, 6, 6, 4, 4, 6, 6, 4, 4,\n",
       "       6, 2, 4, 4, 3, 4, 3, 4, 2, 4, 4, 3, 6, 1, 2, 1, 4, 6, 1, 3, 6, 2,\n",
       "       4, 3, 6, 2, 1, 4, 6, 1, 1, 1, 1, 4])"
      ]
     },
     "execution_count": 33,
     "metadata": {},
     "output_type": "execute_result"
    }
   ],
   "source": [
    "y_predict"
   ]
  },
  {
   "cell_type": "code",
   "execution_count": 34,
   "metadata": {
    "colab": {
     "base_uri": "https://localhost:8080/"
    },
    "id": "5JaG596zg4kK",
    "outputId": "f33d2da7-f315-43ec-9977-1ee6800ec671"
   },
   "outputs": [
    {
     "name": "stdout",
     "output_type": "stream",
     "text": [
      "f1_score: 0.269326720914183\n",
      "              precision    recall  f1-score   support\n",
      "\n",
      "           1       0.26      0.30      0.28        20\n",
      "           2       0.25      0.20      0.22        20\n",
      "           3       0.20      0.15      0.17        20\n",
      "           4       0.50      0.50      0.50        20\n",
      "           6       0.15      0.20      0.17        20\n",
      "\n",
      "    accuracy                           0.27       100\n",
      "   macro avg       0.27      0.27      0.27       100\n",
      "weighted avg       0.27      0.27      0.27       100\n",
      "\n",
      "Confusion matrix: \n",
      "[[ 6  7  4  1  2]\n",
      " [ 6  4  3  2  5]\n",
      " [ 3  0  3  3 11]\n",
      " [ 1  2  3 10  4]\n",
      " [ 7  3  2  4  4]]\n"
     ]
    }
   ],
   "source": [
    "f1.append(model_Evaluate(np.array(y_test),y_predict))"
   ]
  },
  {
   "cell_type": "markdown",
   "metadata": {
    "id": "2pKMiEQ-hDec"
   },
   "source": [
    "However the train data is a quite small.but the model can learning it.\n",
    "but the model is overfitting so, it fails to predict the test data well."
   ]
  },
  {
   "cell_type": "markdown",
   "metadata": {
    "id": "aUu-6xBNg4kK"
   },
   "source": [
    "# Regresion"
   ]
  },
  {
   "cell_type": "code",
   "execution_count": 67,
   "metadata": {
    "id": "CertdA7Tg4kK"
   },
   "outputs": [],
   "source": [
    "for layer in my_cnn.layers:\n",
    "    layer.trainable = False \n",
    "\n",
    "# last layers output\n",
    "x = my_cnn.layers[-1].output\n",
    "# Flatten as before\n",
    "x = Flatten()(x)\n",
    "x = Dense(256, activation='relu')(x)\n",
    "x = Dense(1)(x)\n",
    "\n",
    "from tensorflow.keras.models import Model\n",
    "model_reg_transfer = Model(inputs=my_cnn.input, outputs=x)"
   ]
  },
  {
   "cell_type": "code",
   "execution_count": 68,
   "metadata": {
    "colab": {
     "base_uri": "https://localhost:8080/"
    },
    "id": "V608_j3Rg4kK",
    "outputId": "d837ecc3-e9d6-4063-ee36-da85f98021f1"
   },
   "outputs": [
    {
     "name": "stdout",
     "output_type": "stream",
     "text": [
      "Model: \"model_6\"\n",
      "_________________________________________________________________\n",
      "Layer (type)                 Output Shape              Param #   \n",
      "=================================================================\n",
      "input_1 (InputLayer)         [(None, 32, 32, 3)]       0         \n",
      "_________________________________________________________________\n",
      "block1_conv1 (Conv2D)        (None, 32, 32, 64)        1792      \n",
      "_________________________________________________________________\n",
      "block1_conv2 (Conv2D)        (None, 32, 32, 64)        36928     \n",
      "_________________________________________________________________\n",
      "block1_pool (MaxPooling2D)   (None, 16, 16, 64)        0         \n",
      "_________________________________________________________________\n",
      "block2_conv1 (Conv2D)        (None, 16, 16, 128)       73856     \n",
      "_________________________________________________________________\n",
      "block2_conv2 (Conv2D)        (None, 16, 16, 128)       147584    \n",
      "_________________________________________________________________\n",
      "block2_pool (MaxPooling2D)   (None, 8, 8, 128)         0         \n",
      "_________________________________________________________________\n",
      "flatten_5 (Flatten)          (None, 8192)              0         \n",
      "_________________________________________________________________\n",
      "dense_10 (Dense)             (None, 256)               2097408   \n",
      "_________________________________________________________________\n",
      "dense_11 (Dense)             (None, 1)                 257       \n",
      "=================================================================\n",
      "Total params: 2,357,825\n",
      "Trainable params: 2,097,665\n",
      "Non-trainable params: 260,160\n",
      "_________________________________________________________________\n",
      "None\n"
     ]
    }
   ],
   "source": [
    "print(model_reg_transfer.summary())"
   ]
  },
  {
   "cell_type": "code",
   "execution_count": 69,
   "metadata": {
    "colab": {
     "base_uri": "https://localhost:8080/"
    },
    "id": "vw7H0kpfg4kL",
    "outputId": "d77d4bbc-9112-4dda-96a1-6f9c00ba5799"
   },
   "outputs": [
    {
     "name": "stdout",
     "output_type": "stream",
     "text": [
      "Epoch 1/32\n",
      "5/5 [==============================] - 4s 746ms/step - loss: 42907.3555 - val_loss: 13.1154\n",
      "Epoch 2/32\n",
      "5/5 [==============================] - 3s 712ms/step - loss: 7.5382 - val_loss: 8.2921\n",
      "Epoch 3/32\n",
      "5/5 [==============================] - 3s 710ms/step - loss: 5.3713 - val_loss: 5.1420\n",
      "Epoch 4/32\n",
      "5/5 [==============================] - 3s 713ms/step - loss: 4.2814 - val_loss: 4.7073\n",
      "Epoch 5/32\n",
      "5/5 [==============================] - 3s 708ms/step - loss: 3.4901 - val_loss: 3.7099\n",
      "Epoch 6/32\n",
      "5/5 [==============================] - 3s 712ms/step - loss: 2.9956 - val_loss: 3.5746\n",
      "Epoch 7/32\n",
      "5/5 [==============================] - 3s 715ms/step - loss: 2.7212 - val_loss: 3.1873\n",
      "Epoch 8/32\n",
      "5/5 [==============================] - 3s 713ms/step - loss: 2.4217 - val_loss: 3.0419\n",
      "Epoch 9/32\n",
      "5/5 [==============================] - 3s 710ms/step - loss: 2.1953 - val_loss: 2.9787\n",
      "Epoch 10/32\n",
      "5/5 [==============================] - 3s 711ms/step - loss: 2.0261 - val_loss: 2.8323\n",
      "Epoch 11/32\n",
      "5/5 [==============================] - 3s 709ms/step - loss: 1.9176 - val_loss: 2.8413\n",
      "Epoch 12/32\n",
      "5/5 [==============================] - 3s 715ms/step - loss: 1.7914 - val_loss: 2.6551\n",
      "Epoch 13/32\n",
      "5/5 [==============================] - 3s 711ms/step - loss: 1.7004 - val_loss: 2.6027\n",
      "Epoch 14/32\n",
      "5/5 [==============================] - 3s 719ms/step - loss: 1.6211 - val_loss: 2.5604\n",
      "Epoch 15/32\n",
      "5/5 [==============================] - 3s 706ms/step - loss: 1.5377 - val_loss: 2.5172\n",
      "Epoch 16/32\n",
      "5/5 [==============================] - 3s 710ms/step - loss: 1.4788 - val_loss: 2.5523\n",
      "Epoch 17/32\n",
      "5/5 [==============================] - 3s 714ms/step - loss: 1.4866 - val_loss: 2.4334\n",
      "Epoch 18/32\n",
      "5/5 [==============================] - 3s 706ms/step - loss: 1.4458 - val_loss: 2.4663\n",
      "Epoch 19/32\n",
      "5/5 [==============================] - 3s 712ms/step - loss: 1.4047 - val_loss: 2.4436\n",
      "Epoch 20/32\n",
      "5/5 [==============================] - 3s 712ms/step - loss: 1.2665 - val_loss: 2.3579\n",
      "Epoch 21/32\n",
      "5/5 [==============================] - 3s 710ms/step - loss: 1.2263 - val_loss: 2.3445\n",
      "Epoch 22/32\n",
      "5/5 [==============================] - 3s 714ms/step - loss: 1.1878 - val_loss: 2.3363\n",
      "Epoch 23/32\n",
      "5/5 [==============================] - 3s 716ms/step - loss: 1.1718 - val_loss: 2.6127\n",
      "Epoch 24/32\n",
      "5/5 [==============================] - 3s 705ms/step - loss: 1.2782 - val_loss: 2.3188\n",
      "Epoch 25/32\n",
      "5/5 [==============================] - 3s 712ms/step - loss: 1.1007 - val_loss: 2.3531\n",
      "Epoch 26/32\n",
      "5/5 [==============================] - 3s 713ms/step - loss: 1.1142 - val_loss: 2.3901\n",
      "Epoch 27/32\n",
      "5/5 [==============================] - 3s 708ms/step - loss: 1.0320 - val_loss: 2.3444\n",
      "Epoch 28/32\n",
      "5/5 [==============================] - 3s 711ms/step - loss: 0.9912 - val_loss: 2.2905\n",
      "Epoch 29/32\n",
      "5/5 [==============================] - 3s 716ms/step - loss: 0.9652 - val_loss: 2.2866\n",
      "Epoch 30/32\n",
      "5/5 [==============================] - 3s 713ms/step - loss: 0.9463 - val_loss: 2.2903\n",
      "Epoch 31/32\n",
      "5/5 [==============================] - 3s 709ms/step - loss: 0.9083 - val_loss: 2.2805\n",
      "Epoch 32/32\n",
      "5/5 [==============================] - 3s 718ms/step - loss: 0.8774 - val_loss: 2.2798\n"
     ]
    }
   ],
   "source": [
    "model_reg_transfer.compile(loss= \"mse\", \n",
    "                           optimizer='adam'\n",
    "                           )\n",
    "\n",
    "history = model_reg_transfer.fit(x_train, y_train, batch_size=batchSize, epochs=nEpochs, verbose=1,validation_data=( x_valid, y_valid))\n"
   ]
  },
  {
   "cell_type": "code",
   "execution_count": 70,
   "metadata": {
    "colab": {
     "base_uri": "https://localhost:8080/",
     "height": 295
    },
    "id": "ZTEiibl_g4kL",
    "outputId": "1a09192d-5172-475d-86e4-eff3e6b3f0cd"
   },
   "outputs": [
    {
     "data": {
      "image/png": "[encoded data removed]",
      "text/plain": [
       "<Figure size 432x288 with 1 Axes>"
      ]
     },
     "metadata": {
      "needs_background": "light"
     },
     "output_type": "display_data"
    }
   ],
   "source": [
    "# dictionary keys seems to have changed in version 2\n",
    "k = ''\n",
    "if 'loss' in history.history :\n",
    "    k = 'loss'    \n",
    "    \n",
    "if k != '' :    \n",
    "    plt.plot(history.history[k])\n",
    "    plt.plot(history.history['val_'+k])\n",
    "    plt.title('Model mse')\n",
    "    plt.ylabel('mse')\n",
    "    plt.xlabel('Epoch')\n",
    "    plt.legend(['train', 'valid'], loc='upper left')\n",
    "    plt.show()\n"
   ]
  },
  {
   "cell_type": "markdown",
   "metadata": {
    "id": "kddwGq8xkPzb"
   },
   "source": [
    "the mse start high in the train data then decresed with epoch.. the validation data get low loss. the model trained on the training data well."
   ]
  },
  {
   "cell_type": "code",
   "execution_count": 72,
   "metadata": {
    "id": "UpV9tfjfg4kL"
   },
   "outputs": [],
   "source": [
    "y_predict_prob = model_reg_transfer.predict(x_test)"
   ]
  },
  {
   "cell_type": "code",
   "execution_count": 73,
   "metadata": {
    "colab": {
     "base_uri": "https://localhost:8080/"
    },
    "id": "qZKqB1XgGsmz",
    "outputId": "10716915-20c9-4f73-b7ab-73c0d9ec70e0"
   },
   "outputs": [
    {
     "data": {
      "text/plain": [
       "array([[1.4434515 ],\n",
       "       [4.005488  ],\n",
       "       [2.1833196 ],\n",
       "       [3.3705084 ],\n",
       "       [3.4254277 ],\n",
       "       [1.4047737 ],\n",
       "       [1.6385815 ],\n",
       "       [3.289274  ],\n",
       "       [3.2288692 ],\n",
       "       [3.7106297 ],\n",
       "       [3.4267828 ],\n",
       "       [1.7974344 ],\n",
       "       [1.9663248 ],\n",
       "       [3.4553497 ],\n",
       "       [1.6375483 ],\n",
       "       [1.6275336 ],\n",
       "       [1.8322611 ],\n",
       "       [2.6695805 ],\n",
       "       [3.5196626 ],\n",
       "       [0.51805305],\n",
       "       [3.5680838 ],\n",
       "       [6.0623717 ],\n",
       "       [5.830501  ],\n",
       "       [3.5622792 ],\n",
       "       [4.3364906 ],\n",
       "       [3.2158682 ],\n",
       "       [3.8476036 ],\n",
       "       [4.490105  ],\n",
       "       [3.8551002 ],\n",
       "       [0.27132252],\n",
       "       [3.9271657 ],\n",
       "       [3.0481985 ],\n",
       "       [4.168426  ],\n",
       "       [3.7710629 ],\n",
       "       [4.5250278 ],\n",
       "       [0.8534164 ],\n",
       "       [3.3727288 ],\n",
       "       [6.0742292 ],\n",
       "       [2.5639293 ],\n",
       "       [1.1096433 ],\n",
       "       [6.4229717 ],\n",
       "       [6.247417  ],\n",
       "       [4.997558  ],\n",
       "       [3.3813922 ],\n",
       "       [2.403425  ],\n",
       "       [2.0640106 ],\n",
       "       [4.293854  ],\n",
       "       [3.902943  ],\n",
       "       [3.1656523 ],\n",
       "       [3.7650723 ],\n",
       "       [5.0477133 ],\n",
       "       [4.168965  ],\n",
       "       [5.022732  ],\n",
       "       [4.340493  ],\n",
       "       [3.896136  ],\n",
       "       [4.085276  ],\n",
       "       [2.771483  ],\n",
       "       [3.3611078 ],\n",
       "       [4.479042  ],\n",
       "       [3.954479  ],\n",
       "       [5.6432476 ],\n",
       "       [4.567397  ],\n",
       "       [4.2942142 ],\n",
       "       [4.602184  ],\n",
       "       [5.2916064 ],\n",
       "       [4.6706843 ],\n",
       "       [3.126612  ],\n",
       "       [3.0001745 ],\n",
       "       [5.1791134 ],\n",
       "       [4.832088  ],\n",
       "       [2.5146346 ],\n",
       "       [3.3366728 ],\n",
       "       [2.4204905 ],\n",
       "       [3.0168653 ],\n",
       "       [2.4866118 ],\n",
       "       [4.8271594 ],\n",
       "       [4.793416  ],\n",
       "       [4.357926  ],\n",
       "       [4.7117662 ],\n",
       "       [2.5835125 ],\n",
       "       [4.129604  ],\n",
       "       [0.98180676],\n",
       "       [3.0318534 ],\n",
       "       [3.1945035 ],\n",
       "       [1.0308002 ],\n",
       "       [2.723141  ],\n",
       "       [4.2197413 ],\n",
       "       [2.5395565 ],\n",
       "       [3.186902  ],\n",
       "       [2.2425501 ],\n",
       "       [2.5148735 ],\n",
       "       [1.3660759 ],\n",
       "       [4.0204635 ],\n",
       "       [4.1582956 ],\n",
       "       [4.7407517 ],\n",
       "       [3.089596  ],\n",
       "       [1.5073647 ],\n",
       "       [1.6952838 ],\n",
       "       [1.9913218 ],\n",
       "       [1.9774429 ]], dtype=float32)"
      ]
     },
     "execution_count": 73,
     "metadata": {},
     "output_type": "execute_result"
    }
   ],
   "source": [
    "y_predict_prob"
   ]
  },
  {
   "cell_type": "markdown",
   "metadata": {
    "id": "u6NlYLVXli59"
   },
   "source": [
    "# put threshold for regression to compare it with classification"
   ]
  },
  {
   "cell_type": "code",
   "execution_count": 74,
   "metadata": {
    "id": "cRdKBjdFG3w9"
   },
   "outputs": [],
   "source": [
    "for i in range(len(y_predict_prob)) :\n",
    "    if y_predict_prob[i] >= 4.5:\n",
    "            y_predict_prob[i]=6\n",
    "    elif y_predict_prob[i] < 0.49:\n",
    "       y_predict_prob[i]=1\n",
    "\n",
    "    else :\n",
    "        y_predict_prob[i]= np.round(y_predict_prob[i])"
   ]
  },
  {
   "cell_type": "code",
   "execution_count": 75,
   "metadata": {
    "id": "bY-_inKWz2Gq"
   },
   "outputs": [],
   "source": [
    "y_predict= np.round(y_predict_prob).astype(int)"
   ]
  },
  {
   "cell_type": "code",
   "execution_count": 76,
   "metadata": {
    "colab": {
     "base_uri": "https://localhost:8080/"
    },
    "id": "ic2rX7-Xg4kL",
    "outputId": "50de6e64-d37f-40d9-df41-765a7f760bf1"
   },
   "outputs": [
    {
     "data": {
      "text/plain": [
       "array([[1],\n",
       "       [4],\n",
       "       [2],\n",
       "       [3],\n",
       "       [3],\n",
       "       [1],\n",
       "       [2],\n",
       "       [3],\n",
       "       [3],\n",
       "       [4],\n",
       "       [3],\n",
       "       [2],\n",
       "       [2],\n",
       "       [3],\n",
       "       [2],\n",
       "       [2],\n",
       "       [2],\n",
       "       [3],\n",
       "       [4],\n",
       "       [1],\n",
       "       [4],\n",
       "       [6],\n",
       "       [6],\n",
       "       [4],\n",
       "       [4],\n",
       "       [3],\n",
       "       [4],\n",
       "       [4],\n",
       "       [4],\n",
       "       [1],\n",
       "       [4],\n",
       "       [3],\n",
       "       [4],\n",
       "       [4],\n",
       "       [6],\n",
       "       [1],\n",
       "       [3],\n",
       "       [6],\n",
       "       [3],\n",
       "       [1],\n",
       "       [6],\n",
       "       [6],\n",
       "       [6],\n",
       "       [3],\n",
       "       [2],\n",
       "       [2],\n",
       "       [4],\n",
       "       [4],\n",
       "       [3],\n",
       "       [4],\n",
       "       [6],\n",
       "       [4],\n",
       "       [6],\n",
       "       [4],\n",
       "       [4],\n",
       "       [4],\n",
       "       [3],\n",
       "       [3],\n",
       "       [4],\n",
       "       [4],\n",
       "       [6],\n",
       "       [6],\n",
       "       [4],\n",
       "       [6],\n",
       "       [6],\n",
       "       [6],\n",
       "       [3],\n",
       "       [3],\n",
       "       [6],\n",
       "       [6],\n",
       "       [3],\n",
       "       [3],\n",
       "       [2],\n",
       "       [3],\n",
       "       [2],\n",
       "       [6],\n",
       "       [6],\n",
       "       [4],\n",
       "       [6],\n",
       "       [3],\n",
       "       [4],\n",
       "       [1],\n",
       "       [3],\n",
       "       [3],\n",
       "       [1],\n",
       "       [3],\n",
       "       [4],\n",
       "       [3],\n",
       "       [3],\n",
       "       [2],\n",
       "       [3],\n",
       "       [1],\n",
       "       [4],\n",
       "       [4],\n",
       "       [6],\n",
       "       [3],\n",
       "       [2],\n",
       "       [2],\n",
       "       [2],\n",
       "       [2]])"
      ]
     },
     "execution_count": 76,
     "metadata": {},
     "output_type": "execute_result"
    }
   ],
   "source": [
    "y_predict"
   ]
  },
  {
   "cell_type": "code",
   "execution_count": 77,
   "metadata": {
    "colab": {
     "base_uri": "https://localhost:8080/"
    },
    "id": "6jaBoFkpg4kM",
    "outputId": "663595e3-bcc2-4144-bf18-c775ae84a4bf"
   },
   "outputs": [
    {
     "name": "stdout",
     "output_type": "stream",
     "text": [
      "f1_score: 0.10173392027390561\n",
      "              precision    recall  f1-score   support\n",
      "\n",
      "           1       0.33      0.15      0.21        20\n",
      "           2       0.00      0.00      0.00        20\n",
      "           3       0.14      0.20      0.17        20\n",
      "           4       0.07      0.10      0.09        20\n",
      "           6       0.05      0.05      0.05        20\n",
      "\n",
      "    accuracy                           0.10       100\n",
      "   macro avg       0.12      0.10      0.10       100\n",
      "weighted avg       0.12      0.10      0.10       100\n",
      "\n",
      "Confusion matrix: \n",
      "[[ 3  7  7  3  0]\n",
      " [ 3  0  4  9  4]\n",
      " [ 0  2  4  9  5]\n",
      " [ 0  2  6  2 10]\n",
      " [ 3  5  7  4  1]]\n"
     ]
    }
   ],
   "source": [
    "f1.append(model_Evaluate(y_test,y_predict))"
   ]
  },
  {
   "cell_type": "code",
   "execution_count": 78,
   "metadata": {
    "colab": {
     "base_uri": "https://localhost:8080/"
    },
    "id": "R1lnHbxug4kM",
    "outputId": "ef6d9773-16e5-4c76-b778-1c955ae3ff9d"
   },
   "outputs": [
    {
     "data": {
      "text/plain": [
       "2.264950330581225"
      ]
     },
     "execution_count": 78,
     "metadata": {},
     "output_type": "execute_result"
    }
   ],
   "source": [
    "from sklearn.metrics import mean_squared_error\n",
    "mean_squared_error(y_test, y_predict, squared=False)"
   ]
  },
  {
   "cell_type": "markdown",
   "metadata": {
    "id": "gfO8kh3gnr4F"
   },
   "source": [
    "# the champion model"
   ]
  },
  {
   "cell_type": "code",
   "execution_count": 47,
   "metadata": {
    "colab": {
     "base_uri": "https://localhost:8080/"
    },
    "id": "xtR6Lgbmnq5m",
    "outputId": "eed3d7b1-9b71-4fe8-8426-87acc675d43e"
   },
   "outputs": [
    {
     "name": "stdout",
     "output_type": "stream",
     "text": [
      "the best model is classification with f1 score =  0.269326720914183\n"
     ]
    }
   ],
   "source": [
    "print(\"the best model is\",model[np.argmax(f1)],\"with f1 score = \",f1[np.argmax(f1)])"
   ]
  },
  {
   "cell_type": "markdown",
   "metadata": {
    "id": "9bwXt0Pzg4kM"
   },
   "source": [
    "# Regularization"
   ]
  },
  {
   "cell_type": "code",
   "execution_count": 48,
   "metadata": {
    "id": "iskvQizCg4kM"
   },
   "outputs": [],
   "source": [
    "for layer in my_cnn.layers:\n",
    "    layer.trainable = False \n",
    "\n",
    "# last layers output\n",
    "x = my_cnn.layers[-1].output\n",
    "# Flatten as before\n",
    "x = Dropout(0.3)(x)\n",
    "x = BatchNormalization()(x)\n",
    "\n",
    "x = Flatten()(x)\n",
    "x = Dense(256, activation='relu')(x)\n",
    "x = Dense(7, activation='softmax')(x)\n",
    "\n",
    "\n",
    "from tensorflow.keras.models import Model\n",
    "model_transfer_Reg = Model(inputs=my_cnn.input, outputs=x)"
   ]
  },
  {
   "cell_type": "code",
   "execution_count": 49,
   "metadata": {
    "colab": {
     "base_uri": "https://localhost:8080/"
    },
    "id": "ug4yAWhHg4kN",
    "outputId": "cc8e70be-776f-4a42-9a58-5d12f55bdfb5"
   },
   "outputs": [
    {
     "name": "stdout",
     "output_type": "stream",
     "text": [
      "Model: \"model_3\"\n",
      "_________________________________________________________________\n",
      "Layer (type)                 Output Shape              Param #   \n",
      "=================================================================\n",
      "input_1 (InputLayer)         [(None, 32, 32, 3)]       0         \n",
      "_________________________________________________________________\n",
      "block1_conv1 (Conv2D)        (None, 32, 32, 64)        1792      \n",
      "_________________________________________________________________\n",
      "block1_conv2 (Conv2D)        (None, 32, 32, 64)        36928     \n",
      "_________________________________________________________________\n",
      "block1_pool (MaxPooling2D)   (None, 16, 16, 64)        0         \n",
      "_________________________________________________________________\n",
      "block2_conv1 (Conv2D)        (None, 16, 16, 128)       73856     \n",
      "_________________________________________________________________\n",
      "block2_conv2 (Conv2D)        (None, 16, 16, 128)       147584    \n",
      "_________________________________________________________________\n",
      "block2_pool (MaxPooling2D)   (None, 8, 8, 128)         0         \n",
      "_________________________________________________________________\n",
      "dropout (Dropout)            (None, 8, 8, 128)         0         \n",
      "_________________________________________________________________\n",
      "batch_normalization (BatchNo (None, 8, 8, 128)         512       \n",
      "_________________________________________________________________\n",
      "flatten_2 (Flatten)          (None, 8192)              0         \n",
      "_________________________________________________________________\n",
      "dense_4 (Dense)              (None, 256)               2097408   \n",
      "_________________________________________________________________\n",
      "dense_5 (Dense)              (None, 7)                 1799      \n",
      "=================================================================\n",
      "Total params: 2,359,879\n",
      "Trainable params: 2,099,463\n",
      "Non-trainable params: 260,416\n",
      "_________________________________________________________________\n"
     ]
    }
   ],
   "source": [
    "model_transfer_Reg.summary()"
   ]
  },
  {
   "cell_type": "code",
   "execution_count": 50,
   "metadata": {
    "colab": {
     "base_uri": "https://localhost:8080/"
    },
    "id": "wqxowzPfg4kN",
    "outputId": "2a34512b-623c-46c4-89fe-218bdda0c271"
   },
   "outputs": [
    {
     "name": "stdout",
     "output_type": "stream",
     "text": [
      "Epoch 1/32\n"
     ]
    },
    {
     "name": "stderr",
     "output_type": "stream",
     "text": [
      "/usr/local/lib/python3.7/dist-packages/keras/optimizer_v2/optimizer_v2.py:356: UserWarning: The `lr` argument is deprecated, use `learning_rate` instead.\n",
      "  \"The `lr` argument is deprecated, use `learning_rate` instead.\")\n"
     ]
    },
    {
     "name": "stdout",
     "output_type": "stream",
     "text": [
      "5/5 [==============================] - 4s 798ms/step - loss: 2.5478 - accuracy: 0.1587 - val_loss: 5.5024 - val_accuracy: 0.1407\n",
      "Epoch 2/32\n",
      "5/5 [==============================] - 4s 758ms/step - loss: 2.4086 - accuracy: 0.1571 - val_loss: 3.8796 - val_accuracy: 0.1667\n",
      "Epoch 3/32\n",
      "5/5 [==============================] - 4s 755ms/step - loss: 2.2217 - accuracy: 0.2032 - val_loss: 3.1367 - val_accuracy: 0.1926\n",
      "Epoch 4/32\n",
      "5/5 [==============================] - 4s 751ms/step - loss: 2.2121 - accuracy: 0.2000 - val_loss: 2.7267 - val_accuracy: 0.1963\n",
      "Epoch 5/32\n",
      "5/5 [==============================] - 4s 755ms/step - loss: 2.1387 - accuracy: 0.1778 - val_loss: 2.4927 - val_accuracy: 0.2148\n",
      "Epoch 6/32\n",
      "5/5 [==============================] - 3s 745ms/step - loss: 1.9983 - accuracy: 0.2254 - val_loss: 2.3539 - val_accuracy: 0.2333\n",
      "Epoch 7/32\n",
      "5/5 [==============================] - 4s 750ms/step - loss: 1.9587 - accuracy: 0.2286 - val_loss: 2.2572 - val_accuracy: 0.2259\n",
      "Epoch 8/32\n",
      "5/5 [==============================] - 4s 758ms/step - loss: 1.9504 - accuracy: 0.2619 - val_loss: 2.1941 - val_accuracy: 0.2222\n",
      "Epoch 9/32\n",
      "5/5 [==============================] - 4s 748ms/step - loss: 1.8883 - accuracy: 0.2429 - val_loss: 2.1437 - val_accuracy: 0.2407\n",
      "Epoch 10/32\n",
      "5/5 [==============================] - 4s 755ms/step - loss: 1.8582 - accuracy: 0.2556 - val_loss: 2.1045 - val_accuracy: 0.2556\n",
      "Epoch 11/32\n",
      "5/5 [==============================] - 4s 764ms/step - loss: 1.8210 - accuracy: 0.2714 - val_loss: 2.0627 - val_accuracy: 0.2630\n",
      "Epoch 12/32\n",
      "5/5 [==============================] - 4s 757ms/step - loss: 1.8096 - accuracy: 0.2921 - val_loss: 2.0340 - val_accuracy: 0.2630\n",
      "Epoch 13/32\n",
      "5/5 [==============================] - 4s 756ms/step - loss: 1.7756 - accuracy: 0.2698 - val_loss: 1.9993 - val_accuracy: 0.2481\n",
      "Epoch 14/32\n",
      "5/5 [==============================] - 4s 757ms/step - loss: 1.7736 - accuracy: 0.2889 - val_loss: 1.9616 - val_accuracy: 0.2444\n",
      "Epoch 15/32\n",
      "5/5 [==============================] - 4s 751ms/step - loss: 1.7440 - accuracy: 0.3254 - val_loss: 1.9329 - val_accuracy: 0.2556\n",
      "Epoch 16/32\n",
      "5/5 [==============================] - 4s 749ms/step - loss: 1.7340 - accuracy: 0.3063 - val_loss: 1.9012 - val_accuracy: 0.2519\n",
      "Epoch 17/32\n",
      "5/5 [==============================] - 4s 757ms/step - loss: 1.6911 - accuracy: 0.3111 - val_loss: 1.8745 - val_accuracy: 0.2593\n",
      "Epoch 18/32\n",
      "5/5 [==============================] - 4s 750ms/step - loss: 1.6961 - accuracy: 0.3190 - val_loss: 1.8482 - val_accuracy: 0.2704\n",
      "Epoch 19/32\n",
      "5/5 [==============================] - 4s 751ms/step - loss: 1.6271 - accuracy: 0.3286 - val_loss: 1.8189 - val_accuracy: 0.2667\n",
      "Epoch 20/32\n",
      "5/5 [==============================] - 4s 755ms/step - loss: 1.6147 - accuracy: 0.3349 - val_loss: 1.8015 - val_accuracy: 0.2667\n",
      "Epoch 21/32\n",
      "5/5 [==============================] - 4s 749ms/step - loss: 1.6466 - accuracy: 0.3333 - val_loss: 1.7797 - val_accuracy: 0.2778\n",
      "Epoch 22/32\n",
      "5/5 [==============================] - 4s 749ms/step - loss: 1.5873 - accuracy: 0.3540 - val_loss: 1.7654 - val_accuracy: 0.2852\n",
      "Epoch 23/32\n",
      "5/5 [==============================] - 4s 754ms/step - loss: 1.6055 - accuracy: 0.3127 - val_loss: 1.7441 - val_accuracy: 0.2815\n",
      "Epoch 24/32\n",
      "5/5 [==============================] - 4s 754ms/step - loss: 1.5453 - accuracy: 0.3651 - val_loss: 1.7338 - val_accuracy: 0.2815\n",
      "Epoch 25/32\n",
      "5/5 [==============================] - 4s 750ms/step - loss: 1.5726 - accuracy: 0.3476 - val_loss: 1.7183 - val_accuracy: 0.2815\n",
      "Epoch 26/32\n",
      "5/5 [==============================] - 4s 755ms/step - loss: 1.5710 - accuracy: 0.3444 - val_loss: 1.7050 - val_accuracy: 0.2778\n",
      "Epoch 27/32\n",
      "5/5 [==============================] - 4s 749ms/step - loss: 1.5662 - accuracy: 0.3587 - val_loss: 1.6928 - val_accuracy: 0.2852\n",
      "Epoch 28/32\n",
      "5/5 [==============================] - 4s 756ms/step - loss: 1.5080 - accuracy: 0.4063 - val_loss: 1.6730 - val_accuracy: 0.2741\n",
      "Epoch 29/32\n",
      "5/5 [==============================] - 4s 759ms/step - loss: 1.5197 - accuracy: 0.3762 - val_loss: 1.6613 - val_accuracy: 0.2704\n",
      "Epoch 30/32\n",
      "5/5 [==============================] - 4s 753ms/step - loss: 1.5018 - accuracy: 0.3762 - val_loss: 1.6504 - val_accuracy: 0.2667\n",
      "Epoch 31/32\n",
      "5/5 [==============================] - 4s 753ms/step - loss: 1.4964 - accuracy: 0.3746 - val_loss: 1.6380 - val_accuracy: 0.2704\n",
      "Epoch 32/32\n",
      "5/5 [==============================] - 4s 752ms/step - loss: 1.5013 - accuracy: 0.3603 - val_loss: 1.6237 - val_accuracy: 0.2778\n"
     ]
    }
   ],
   "source": [
    "sgd = tensorflow.keras.optimizers.SGD(lr=0.0008)\n",
    "model_transfer_Reg.compile(loss='categorical_crossentropy', \n",
    "                           optimizer=sgd, \n",
    "                           metrics=['accuracy'])\n",
    "\n",
    "# np.array()\n",
    "history = model_transfer_Reg.fit(x_train, y_train_k, batch_size=batchSize, epochs=nEpochs, verbose=1, \n",
    "                                 validation_data=(x_valid, y_valid_k))\n"
   ]
  },
  {
   "cell_type": "code",
   "execution_count": 51,
   "metadata": {
    "colab": {
     "base_uri": "https://localhost:8080/",
     "height": 295
    },
    "id": "I2kqNoQYg4kN",
    "outputId": "c3977ca1-d0c5-46cb-9b84-ece37de28158"
   },
   "outputs": [
    {
     "data": {
      "image/png": "[encoded data removed]",
      "text/plain": [
       "<Figure size 432x288 with 1 Axes>"
      ]
     },
     "metadata": {
      "needs_background": "light"
     },
     "output_type": "display_data"
    }
   ],
   "source": [
    "# dictionary keys seems to have changed in version 2\n",
    "k = ''\n",
    "if 'accuracy' in history.history :\n",
    "    k = 'accuracy'    \n",
    "\n",
    "if 'acc' in history.history :\n",
    "    k = 'acc'\n",
    "    \n",
    "if k != '' :    \n",
    "    plt.plot(history.history[k])\n",
    "    plt.plot(history.history['val_'+k])\n",
    "    plt.title('Model Accuracy')\n",
    "    plt.ylabel('Accuracy')\n",
    "    plt.xlabel('Epoch')\n",
    "    plt.legend(['train', 'valid'], loc='upper left')\n",
    "    plt.show()"
   ]
  },
  {
   "cell_type": "markdown",
   "metadata": {
    "id": "LEGWNomQpgyG"
   },
   "source": [
    "the regulization helped the model to over comes the overfitting but the accuarcy is very low for both training and validation"
   ]
  },
  {
   "cell_type": "code",
   "execution_count": 52,
   "metadata": {
    "colab": {
     "base_uri": "https://localhost:8080/",
     "height": 295
    },
    "id": "c9BeUVuqg4kN",
    "outputId": "d627dba8-1164-4ef0-8302-cec7008b78d7"
   },
   "outputs": [
    {
     "data": {
      "image/png": "[encoded data removed]",
      "text/plain": [
       "<Figure size 432x288 with 1 Axes>"
      ]
     },
     "metadata": {
      "needs_background": "light"
     },
     "output_type": "display_data"
    }
   ],
   "source": [
    "plt.plot(history.history['loss'])\n",
    "plt.plot(history.history['val_loss'])\n",
    "plt.title('Model loss')\n",
    "plt.ylabel('Loss')\n",
    "plt.xlabel('Epoch')\n",
    "plt.legend(['train', 'test'], loc='upper left')\n",
    "plt.show()"
   ]
  },
  {
   "cell_type": "markdown",
   "metadata": {
    "id": "Z2qOTGChqCNu"
   },
   "source": [
    "the loss continue decreasing with increasing the number of Epoch. the model need to learn more. "
   ]
  },
  {
   "cell_type": "code",
   "execution_count": 53,
   "metadata": {
    "id": "HUuVX0Ez34zi"
   },
   "outputs": [],
   "source": [
    "y_predict_prob = model_transfer_Reg.predict(x_test)"
   ]
  },
  {
   "cell_type": "code",
   "execution_count": 54,
   "metadata": {
    "id": "oq3cmfim4BaK"
   },
   "outputs": [],
   "source": [
    "y_predict = y_predict_prob.argmax(axis=-1)"
   ]
  },
  {
   "cell_type": "code",
   "execution_count": 55,
   "metadata": {
    "colab": {
     "base_uri": "https://localhost:8080/"
    },
    "id": "kIUxRTWr48bE",
    "outputId": "1b43c9be-3aee-4e90-f73a-042545af89f5"
   },
   "outputs": [
    {
     "data": {
      "text/plain": [
       "array([2, 6, 2, 4, 4, 2, 1, 3, 1, 2, 1, 2, 2, 2, 2, 2, 2, 2, 2, 2, 2, 6,\n",
       "       6, 3, 2, 6, 1, 1, 6, 2, 3, 3, 1, 2, 2, 1, 2, 2, 1, 3, 2, 2, 6, 2,\n",
       "       2, 3, 6, 3, 2, 4, 2, 1, 3, 6, 3, 2, 1, 4, 4, 3, 4, 4, 3, 2, 6, 4,\n",
       "       6, 2, 6, 6, 2, 1, 1, 1, 4, 1, 2, 1, 6, 2, 2, 2, 2, 2, 2, 1, 2, 2,\n",
       "       2, 2, 2, 2, 6, 2, 2, 2, 1, 1, 2, 3])"
      ]
     },
     "execution_count": 55,
     "metadata": {},
     "output_type": "execute_result"
    }
   ],
   "source": [
    "y_predict"
   ]
  },
  {
   "cell_type": "code",
   "execution_count": 56,
   "metadata": {
    "colab": {
     "base_uri": "https://localhost:8080/"
    },
    "id": "ZgB-bJIU0Rma",
    "outputId": "0ca17d14-1a4f-4f9a-bb67-74a09a3f00c7"
   },
   "outputs": [
    {
     "name": "stdout",
     "output_type": "stream",
     "text": [
      "f1_score: 0.20280711181999686\n",
      "              precision    recall  f1-score   support\n",
      "\n",
      "           1       0.17      0.15      0.16        20\n",
      "           2       0.15      0.35      0.21        20\n",
      "           3       0.42      0.25      0.31        20\n",
      "           4       0.44      0.20      0.28        20\n",
      "           6       0.07      0.05      0.06        20\n",
      "\n",
      "    accuracy                           0.20       100\n",
      "   macro avg       0.25      0.20      0.20       100\n",
      "weighted avg       0.25      0.20      0.20       100\n",
      "\n",
      "Confusion matrix: \n",
      "[[ 3 13  1  2  1]\n",
      " [ 5  7  4  0  4]\n",
      " [ 2  7  5  3  3]\n",
      " [ 5  5  1  4  5]\n",
      " [ 3 15  1  0  1]]\n"
     ]
    },
    {
     "data": {
      "text/plain": [
       "0.20280711181999686"
      ]
     },
     "execution_count": 56,
     "metadata": {},
     "output_type": "execute_result"
    }
   ],
   "source": [
    "model_Evaluate(y_test,y_predict)"
   ]
  },
  {
   "cell_type": "markdown",
   "metadata": {
    "id": "v4Bk0izEmNdC"
   },
   "source": [
    "the regulization helped the model to over the overfitting"
   ]
  },
  {
   "cell_type": "markdown",
   "metadata": {
    "id": "WyfZ6w3Ho5II"
   },
   "source": [
    "the model can't predict any class correctly. because it is underfitting. so , the model still need to learn more."
   ]
  },
  {
   "cell_type": "markdown",
   "metadata": {
    "id": "qMtRrFhEg4kP"
   },
   "source": [
    "# Data Augmentation"
   ]
  },
  {
   "cell_type": "markdown",
   "metadata": {
    "id": "-OP-Xa4Ig4kP"
   },
   "source": [
    "# classification"
   ]
  },
  {
   "cell_type": "code",
   "execution_count": 57,
   "metadata": {
    "id": "neFehZUVg4kP"
   },
   "outputs": [],
   "source": [
    "from keras.preprocessing.image import ImageDataGenerator\n",
    "\n",
    "datagen = ImageDataGenerator(\n",
    "        rotation_range=20,\n",
    "        width_shift_range=0.2,\n",
    "        height_shift_range=0.2,\n",
    "         zoom_range=0.01,\n",
    "         horizontal_flip=True,\n",
    "        fill_mode='nearest')"
   ]
  },
  {
   "cell_type": "code",
   "execution_count": 60,
   "metadata": {
    "id": "ERaIk2F-g4kP"
   },
   "outputs": [],
   "source": [
    "for layer in my_cnn.layers:\n",
    "    layer.trainable = False \n",
    "\n",
    "# last layers output\n",
    "x = my_cnn.layers[-1].output\n",
    "# Flatten as before\n",
    "x = Dropout(0.3)(x)\n",
    "x = BatchNormalization()(x)\n",
    "\n",
    "x = Flatten()(x)\n",
    "x = Dense(256, activation='relu')(x)\n",
    "x = Dense(7, activation='softmax')(x)\n",
    "\n",
    "\n",
    "from tensorflow.keras.models import Model\n",
    "my_cnn_reg = Model(inputs=my_cnn.input, outputs=x)"
   ]
  },
  {
   "cell_type": "code",
   "execution_count": 61,
   "metadata": {
    "colab": {
     "base_uri": "https://localhost:8080/"
    },
    "id": "t9y-nhUqg4kQ",
    "outputId": "e8ea419a-8574-4f9a-9616-51d262ca1f82"
   },
   "outputs": [
    {
     "name": "stderr",
     "output_type": "stream",
     "text": [
      "/usr/local/lib/python3.7/dist-packages/keras/optimizer_v2/optimizer_v2.py:356: UserWarning: The `lr` argument is deprecated, use `learning_rate` instead.\n",
      "  \"The `lr` argument is deprecated, use `learning_rate` instead.\")\n"
     ]
    },
    {
     "name": "stdout",
     "output_type": "stream",
     "text": [
      "Epoch 1/32\n",
      "20/20 [==============================] - 5s 218ms/step - loss: 2.2893 - accuracy: 0.1810 - val_loss: 2.7109 - val_accuracy: 0.2407\n",
      "Epoch 2/32\n",
      "20/20 [==============================] - 4s 209ms/step - loss: 2.1016 - accuracy: 0.2032 - val_loss: 2.1369 - val_accuracy: 0.2741\n",
      "Epoch 3/32\n",
      "20/20 [==============================] - 4s 207ms/step - loss: 2.0416 - accuracy: 0.2302 - val_loss: 1.9399 - val_accuracy: 0.2741\n",
      "Epoch 4/32\n",
      "20/20 [==============================] - 4s 208ms/step - loss: 1.9560 - accuracy: 0.2238 - val_loss: 1.8105 - val_accuracy: 0.2926\n",
      "Epoch 5/32\n",
      "20/20 [==============================] - 4s 208ms/step - loss: 1.9520 - accuracy: 0.2333 - val_loss: 1.7168 - val_accuracy: 0.2741\n",
      "Epoch 6/32\n",
      "20/20 [==============================] - 4s 209ms/step - loss: 1.8911 - accuracy: 0.2556 - val_loss: 1.6657 - val_accuracy: 0.2889\n",
      "Epoch 7/32\n",
      "20/20 [==============================] - 4s 206ms/step - loss: 1.8592 - accuracy: 0.2254 - val_loss: 1.6334 - val_accuracy: 0.3185\n",
      "Epoch 8/32\n",
      "20/20 [==============================] - 4s 207ms/step - loss: 1.7600 - accuracy: 0.2905 - val_loss: 1.5986 - val_accuracy: 0.3148\n",
      "Epoch 9/32\n",
      "20/20 [==============================] - 4s 205ms/step - loss: 1.7931 - accuracy: 0.2508 - val_loss: 1.5666 - val_accuracy: 0.3519\n",
      "Epoch 10/32\n",
      "20/20 [==============================] - 4s 208ms/step - loss: 1.7750 - accuracy: 0.2857 - val_loss: 1.5394 - val_accuracy: 0.3556\n",
      "Epoch 11/32\n",
      "20/20 [==============================] - 4s 209ms/step - loss: 1.7072 - accuracy: 0.2937 - val_loss: 1.5225 - val_accuracy: 0.3556\n",
      "Epoch 12/32\n",
      "20/20 [==============================] - 4s 207ms/step - loss: 1.7271 - accuracy: 0.2873 - val_loss: 1.5018 - val_accuracy: 0.3704\n",
      "Epoch 13/32\n",
      "20/20 [==============================] - 4s 206ms/step - loss: 1.7250 - accuracy: 0.3111 - val_loss: 1.4810 - val_accuracy: 0.3815\n",
      "Epoch 14/32\n",
      "20/20 [==============================] - 4s 205ms/step - loss: 1.6160 - accuracy: 0.3397 - val_loss: 1.4673 - val_accuracy: 0.3889\n",
      "Epoch 15/32\n",
      "20/20 [==============================] - 4s 207ms/step - loss: 1.6421 - accuracy: 0.3254 - val_loss: 1.4555 - val_accuracy: 0.3852\n",
      "Epoch 16/32\n",
      "20/20 [==============================] - 4s 208ms/step - loss: 1.6145 - accuracy: 0.3571 - val_loss: 1.4512 - val_accuracy: 0.3963\n",
      "Epoch 17/32\n",
      "20/20 [==============================] - 4s 209ms/step - loss: 1.7069 - accuracy: 0.2857 - val_loss: 1.4376 - val_accuracy: 0.3963\n",
      "Epoch 18/32\n",
      "20/20 [==============================] - 4s 207ms/step - loss: 1.6481 - accuracy: 0.3238 - val_loss: 1.4258 - val_accuracy: 0.4037\n",
      "Epoch 19/32\n",
      "20/20 [==============================] - 4s 209ms/step - loss: 1.6248 - accuracy: 0.3270 - val_loss: 1.4170 - val_accuracy: 0.4037\n",
      "Epoch 20/32\n",
      "20/20 [==============================] - 4s 207ms/step - loss: 1.5786 - accuracy: 0.3476 - val_loss: 1.4053 - val_accuracy: 0.4185\n",
      "Epoch 21/32\n",
      "20/20 [==============================] - 4s 207ms/step - loss: 1.5480 - accuracy: 0.3349 - val_loss: 1.3988 - val_accuracy: 0.4148\n",
      "Epoch 22/32\n",
      "20/20 [==============================] - 4s 207ms/step - loss: 1.5944 - accuracy: 0.3587 - val_loss: 1.3942 - val_accuracy: 0.4111\n",
      "Epoch 23/32\n",
      "20/20 [==============================] - 4s 206ms/step - loss: 1.6140 - accuracy: 0.3286 - val_loss: 1.3835 - val_accuracy: 0.4222\n",
      "Epoch 24/32\n",
      "20/20 [==============================] - 4s 208ms/step - loss: 1.6082 - accuracy: 0.3508 - val_loss: 1.3754 - val_accuracy: 0.4259\n",
      "Epoch 25/32\n",
      "20/20 [==============================] - 4s 208ms/step - loss: 1.5651 - accuracy: 0.3651 - val_loss: 1.3693 - val_accuracy: 0.4185\n",
      "Epoch 26/32\n",
      "20/20 [==============================] - 4s 213ms/step - loss: 1.5822 - accuracy: 0.3238 - val_loss: 1.3674 - val_accuracy: 0.4222\n",
      "Epoch 27/32\n",
      "20/20 [==============================] - 4s 210ms/step - loss: 1.5033 - accuracy: 0.3794 - val_loss: 1.3601 - val_accuracy: 0.4333\n",
      "Epoch 28/32\n",
      "20/20 [==============================] - 4s 212ms/step - loss: 1.5156 - accuracy: 0.3778 - val_loss: 1.3575 - val_accuracy: 0.4370\n",
      "Epoch 29/32\n",
      "20/20 [==============================] - 4s 208ms/step - loss: 1.4805 - accuracy: 0.3810 - val_loss: 1.3518 - val_accuracy: 0.4370\n",
      "Epoch 30/32\n",
      "20/20 [==============================] - 4s 211ms/step - loss: 1.4963 - accuracy: 0.3698 - val_loss: 1.3487 - val_accuracy: 0.4407\n",
      "Epoch 31/32\n",
      "20/20 [==============================] - 4s 211ms/step - loss: 1.4653 - accuracy: 0.3825 - val_loss: 1.3450 - val_accuracy: 0.4481\n",
      "Epoch 32/32\n",
      "20/20 [==============================] - 4s 211ms/step - loss: 1.5356 - accuracy: 0.3714 - val_loss: 1.3416 - val_accuracy: 0.4481\n"
     ]
    }
   ],
   "source": [
    "sgd = tensorflow.keras.optimizers.SGD(lr=0.0008)\n",
    "my_cnn_reg.compile(loss='categorical_crossentropy', \n",
    "                           optimizer=sgd, \n",
    "                           metrics=['accuracy'])\n",
    "\n",
    "\n",
    "history = my_cnn_reg.fit(datagen.flow(x_train, y_train_k), batch_size=batchSize, epochs=nEpochs, verbose=1,validation_data=( np.array(x_valid), np.array(y_valid_k)))\n"
   ]
  },
  {
   "cell_type": "code",
   "execution_count": 62,
   "metadata": {
    "colab": {
     "base_uri": "https://localhost:8080/",
     "height": 295
    },
    "id": "RAtD83r9g4kQ",
    "outputId": "a35e0389-37f3-4f93-a465-a063891011af"
   },
   "outputs": [
    {
     "data": {
      "image/png": "[encoded data removed]",
      "text/plain": [
       "<Figure size 432x288 with 1 Axes>"
      ]
     },
     "metadata": {
      "needs_background": "light"
     },
     "output_type": "display_data"
    }
   ],
   "source": [
    "# dictionary keys seems to have changed in version 2\n",
    "k = ''\n",
    "if 'accuracy' in history.history :\n",
    "    k = 'accuracy'    \n",
    "\n",
    "if 'acc' in history.history :\n",
    "    k = 'acc'\n",
    "    \n",
    "if k != '' :    \n",
    "    plt.plot(history.history[k])\n",
    "    plt.plot(history.history['val_'+k])\n",
    "    plt.title('Model Accuracy')\n",
    "    plt.ylabel('Accuracy')\n",
    "    plt.xlabel('Epoch')\n",
    "    plt.legend(['train', 'valid'], loc='upper left')\n",
    "    plt.show()"
   ]
  },
  {
   "cell_type": "markdown",
   "metadata": {
    "id": "ROphBJm4qZrf"
   },
   "source": [
    "the model over comes the overfitting bt the acc is very low"
   ]
  },
  {
   "cell_type": "code",
   "execution_count": 63,
   "metadata": {
    "colab": {
     "base_uri": "https://localhost:8080/",
     "height": 295
    },
    "id": "fUcXKdq7tVeR",
    "outputId": "29ee141f-f232-44bc-f1b0-c9b509ccddfe"
   },
   "outputs": [
    {
     "data": {
      "image/png": "[encoded data removed]",
      "text/plain": [
       "<Figure size 432x288 with 1 Axes>"
      ]
     },
     "metadata": {
      "needs_background": "light"
     },
     "output_type": "display_data"
    }
   ],
   "source": [
    "plt.plot(history.history['loss'])\n",
    "plt.plot(history.history['val_loss'])\n",
    "plt.title('Model loss')\n",
    "plt.ylabel('Loss')\n",
    "plt.xlabel('Epoch')\n",
    "plt.legend(['train', 'valid'], loc='upper left')\n",
    "plt.show()"
   ]
  },
  {
   "cell_type": "markdown",
   "metadata": {
    "id": "Xwd1xey9q_ph"
   },
   "source": [
    "the loss function decreased by incresing the number of epoches"
   ]
  },
  {
   "cell_type": "code",
   "execution_count": 64,
   "metadata": {
    "id": "1isLIdp330zS"
   },
   "outputs": [],
   "source": [
    "y_predict_prob = my_cnn_reg.predict(x_test)\n",
    "y_predict = y_predict_prob.argmax(axis=-1)"
   ]
  },
  {
   "cell_type": "code",
   "execution_count": 65,
   "metadata": {
    "colab": {
     "base_uri": "https://localhost:8080/"
    },
    "id": "Q6BUc2UQ5otz",
    "outputId": "b34fc13b-41a4-437d-ac17-901fb01d14ba"
   },
   "outputs": [
    {
     "data": {
      "text/plain": [
       "array([1, 6, 1, 2, 4, 1, 2, 2, 1, 1, 6, 1, 2, 1, 1, 1, 2, 1, 1, 2, 3, 6,\n",
       "       6, 3, 6, 1, 6, 2, 4, 2, 2, 4, 1, 6, 1, 1, 4, 6, 6, 1, 2, 6, 6, 3,\n",
       "       3, 6, 4, 6, 6, 3, 6, 6, 3, 6, 6, 3, 4, 4, 6, 1, 4, 4, 4, 1, 4, 4,\n",
       "       4, 4, 6, 6, 4, 4, 1, 6, 4, 3, 6, 4, 3, 4, 2, 6, 2, 2, 1, 1, 3, 2,\n",
       "       4, 1, 3, 2, 1, 4, 1, 1, 1, 1, 3, 1])"
      ]
     },
     "execution_count": 65,
     "metadata": {},
     "output_type": "execute_result"
    }
   ],
   "source": [
    "y_predict"
   ]
  },
  {
   "cell_type": "code",
   "execution_count": 66,
   "metadata": {
    "colab": {
     "base_uri": "https://localhost:8080/"
    },
    "id": "vdT5gCJ5tYax",
    "outputId": "63bd56c0-0152-40db-8f90-511e50566acb"
   },
   "outputs": [
    {
     "name": "stdout",
     "output_type": "stream",
     "text": [
      "f1_score: 0.3146164607749974\n",
      "              precision    recall  f1-score   support\n",
      "\n",
      "           1       0.39      0.55      0.46        20\n",
      "           2       0.20      0.15      0.17        20\n",
      "           3       0.42      0.25      0.31        20\n",
      "           4       0.57      0.60      0.59        20\n",
      "           6       0.04      0.05      0.05        20\n",
      "\n",
      "    accuracy                           0.32       100\n",
      "   macro avg       0.32      0.32      0.31       100\n",
      "weighted avg       0.32      0.32      0.31       100\n",
      "\n",
      "Confusion matrix: \n",
      "[[11  6  0  1  2]\n",
      " [ 5  3  2  3  7]\n",
      " [ 1  1  5  3 10]\n",
      " [ 2  0  2 12  4]\n",
      " [ 9  5  3  2  1]]\n"
     ]
    },
    {
     "data": {
      "text/plain": [
       "0.3146164607749974"
      ]
     },
     "execution_count": 66,
     "metadata": {},
     "output_type": "execute_result"
    }
   ],
   "source": [
    "model_Evaluate(y_test,y_predict)"
   ]
  },
  {
   "cell_type": "markdown",
   "metadata": {
    "id": "GWkq_x2pmsMY"
   },
   "source": [
    "Train the model on more data with regularization improve the f1 score from 0.26  to  0.31 .\n",
    "\n",
    "---\n",
    "\n"
   ]
  },
  {
   "cell_type": "markdown",
   "metadata": {
    "id": "zFArW_C2oSxX"
   },
   "source": [
    "the model can predict most of class 1 and 4 and faild to predict class 6 and 2"
   ]
  },
  {
   "cell_type": "markdown",
   "metadata": {
    "id": "jf6JyRp8upxy"
   },
   "source": [
    "# increase the number of epochs"
   ]
  },
  {
   "cell_type": "code",
   "execution_count": 79,
   "metadata": {
    "colab": {
     "base_uri": "https://localhost:8080/"
    },
    "id": "HcCAA3QQrbBO",
    "outputId": "8331bc5f-caad-4514-ab62-4ea324ab0f43"
   },
   "outputs": [
    {
     "name": "stderr",
     "output_type": "stream",
     "text": [
      "/usr/local/lib/python3.7/dist-packages/keras/optimizer_v2/optimizer_v2.py:356: UserWarning: The `lr` argument is deprecated, use `learning_rate` instead.\n",
      "  \"The `lr` argument is deprecated, use `learning_rate` instead.\")\n"
     ]
    },
    {
     "name": "stdout",
     "output_type": "stream",
     "text": [
      "Epoch 1/50\n",
      "20/20 [==============================] - 5s 218ms/step - loss: 1.5233 - accuracy: 0.3635 - val_loss: 1.3347 - val_accuracy: 0.4481\n",
      "Epoch 2/50\n",
      "20/20 [==============================] - 4s 208ms/step - loss: 1.5280 - accuracy: 0.3556 - val_loss: 1.3350 - val_accuracy: 0.4333\n",
      "Epoch 3/50\n",
      "20/20 [==============================] - 4s 208ms/step - loss: 1.5273 - accuracy: 0.3810 - val_loss: 1.3341 - val_accuracy: 0.4407\n",
      "Epoch 4/50\n",
      "20/20 [==============================] - 4s 208ms/step - loss: 1.5000 - accuracy: 0.3778 - val_loss: 1.3300 - val_accuracy: 0.4333\n",
      "Epoch 5/50\n",
      "20/20 [==============================] - 4s 208ms/step - loss: 1.4342 - accuracy: 0.3968 - val_loss: 1.3251 - val_accuracy: 0.4333\n",
      "Epoch 6/50\n",
      "20/20 [==============================] - 4s 209ms/step - loss: 1.4734 - accuracy: 0.3937 - val_loss: 1.3172 - val_accuracy: 0.4370\n",
      "Epoch 7/50\n",
      "20/20 [==============================] - 4s 208ms/step - loss: 1.4762 - accuracy: 0.3889 - val_loss: 1.3136 - val_accuracy: 0.4370\n",
      "Epoch 8/50\n",
      "20/20 [==============================] - 4s 207ms/step - loss: 1.4300 - accuracy: 0.3952 - val_loss: 1.3120 - val_accuracy: 0.4259\n",
      "Epoch 9/50\n",
      "20/20 [==============================] - 4s 208ms/step - loss: 1.4290 - accuracy: 0.3905 - val_loss: 1.3077 - val_accuracy: 0.4296\n",
      "Epoch 10/50\n",
      "20/20 [==============================] - 4s 209ms/step - loss: 1.4659 - accuracy: 0.3921 - val_loss: 1.3057 - val_accuracy: 0.4407\n",
      "Epoch 11/50\n",
      "20/20 [==============================] - 4s 208ms/step - loss: 1.4222 - accuracy: 0.4111 - val_loss: 1.3028 - val_accuracy: 0.4370\n",
      "Epoch 12/50\n",
      "20/20 [==============================] - 4s 208ms/step - loss: 1.4010 - accuracy: 0.4254 - val_loss: 1.2976 - val_accuracy: 0.4481\n",
      "Epoch 13/50\n",
      "20/20 [==============================] - 4s 207ms/step - loss: 1.4205 - accuracy: 0.4206 - val_loss: 1.2971 - val_accuracy: 0.4481\n",
      "Epoch 14/50\n",
      "20/20 [==============================] - 4s 207ms/step - loss: 1.4156 - accuracy: 0.4127 - val_loss: 1.2940 - val_accuracy: 0.4407\n",
      "Epoch 15/50\n",
      "20/20 [==============================] - 4s 210ms/step - loss: 1.4644 - accuracy: 0.3921 - val_loss: 1.2923 - val_accuracy: 0.4444\n",
      "Epoch 16/50\n",
      "20/20 [==============================] - 4s 208ms/step - loss: 1.3746 - accuracy: 0.4698 - val_loss: 1.2875 - val_accuracy: 0.4444\n",
      "Epoch 17/50\n",
      "20/20 [==============================] - 4s 206ms/step - loss: 1.4398 - accuracy: 0.4079 - val_loss: 1.2843 - val_accuracy: 0.4519\n",
      "Epoch 18/50\n",
      "20/20 [==============================] - 4s 206ms/step - loss: 1.4461 - accuracy: 0.4079 - val_loss: 1.2759 - val_accuracy: 0.4593\n",
      "Epoch 19/50\n",
      "20/20 [==============================] - 4s 207ms/step - loss: 1.4812 - accuracy: 0.3825 - val_loss: 1.2713 - val_accuracy: 0.4444\n",
      "Epoch 20/50\n",
      "20/20 [==============================] - 4s 207ms/step - loss: 1.4063 - accuracy: 0.3984 - val_loss: 1.2673 - val_accuracy: 0.4481\n",
      "Epoch 21/50\n",
      "20/20 [==============================] - 4s 206ms/step - loss: 1.3452 - accuracy: 0.4714 - val_loss: 1.2616 - val_accuracy: 0.4481\n",
      "Epoch 22/50\n",
      "20/20 [==============================] - 4s 207ms/step - loss: 1.4101 - accuracy: 0.4143 - val_loss: 1.2659 - val_accuracy: 0.4667\n",
      "Epoch 23/50\n",
      "20/20 [==============================] - 4s 207ms/step - loss: 1.3580 - accuracy: 0.4365 - val_loss: 1.2604 - val_accuracy: 0.4778\n",
      "Epoch 24/50\n",
      "20/20 [==============================] - 4s 208ms/step - loss: 1.3920 - accuracy: 0.4159 - val_loss: 1.2533 - val_accuracy: 0.4741\n",
      "Epoch 25/50\n",
      "20/20 [==============================] - 4s 206ms/step - loss: 1.3481 - accuracy: 0.4492 - val_loss: 1.2548 - val_accuracy: 0.4741\n",
      "Epoch 26/50\n",
      "20/20 [==============================] - 4s 207ms/step - loss: 1.3270 - accuracy: 0.4444 - val_loss: 1.2566 - val_accuracy: 0.4741\n",
      "Epoch 27/50\n",
      "20/20 [==============================] - 4s 206ms/step - loss: 1.3825 - accuracy: 0.4016 - val_loss: 1.2540 - val_accuracy: 0.4815\n",
      "Epoch 28/50\n",
      "20/20 [==============================] - 4s 207ms/step - loss: 1.3664 - accuracy: 0.4270 - val_loss: 1.2504 - val_accuracy: 0.4704\n",
      "Epoch 29/50\n",
      "20/20 [==============================] - 4s 206ms/step - loss: 1.4013 - accuracy: 0.4127 - val_loss: 1.2503 - val_accuracy: 0.4741\n",
      "Epoch 30/50\n",
      "20/20 [==============================] - 4s 207ms/step - loss: 1.3349 - accuracy: 0.4587 - val_loss: 1.2511 - val_accuracy: 0.4704\n",
      "Epoch 31/50\n",
      "20/20 [==============================] - 4s 207ms/step - loss: 1.3338 - accuracy: 0.4444 - val_loss: 1.2503 - val_accuracy: 0.4741\n",
      "Epoch 32/50\n",
      "20/20 [==============================] - 4s 208ms/step - loss: 1.3648 - accuracy: 0.4397 - val_loss: 1.2499 - val_accuracy: 0.4741\n",
      "Epoch 33/50\n",
      "20/20 [==============================] - 4s 208ms/step - loss: 1.3366 - accuracy: 0.4540 - val_loss: 1.2494 - val_accuracy: 0.4741\n",
      "Epoch 34/50\n",
      "20/20 [==============================] - 4s 209ms/step - loss: 1.3304 - accuracy: 0.4460 - val_loss: 1.2491 - val_accuracy: 0.4815\n",
      "Epoch 35/50\n",
      "20/20 [==============================] - 4s 209ms/step - loss: 1.3536 - accuracy: 0.4460 - val_loss: 1.2449 - val_accuracy: 0.4815\n",
      "Epoch 36/50\n",
      "20/20 [==============================] - 4s 210ms/step - loss: 1.3871 - accuracy: 0.4349 - val_loss: 1.2416 - val_accuracy: 0.4778\n",
      "Epoch 37/50\n",
      "20/20 [==============================] - 5s 234ms/step - loss: 1.3236 - accuracy: 0.4206 - val_loss: 1.2396 - val_accuracy: 0.4778\n",
      "Epoch 38/50\n",
      "20/20 [==============================] - 5s 262ms/step - loss: 1.3872 - accuracy: 0.4429 - val_loss: 1.2374 - val_accuracy: 0.4741\n",
      "Epoch 39/50\n",
      "20/20 [==============================] - 4s 208ms/step - loss: 1.3425 - accuracy: 0.4556 - val_loss: 1.2377 - val_accuracy: 0.4741\n",
      "Epoch 40/50\n",
      "20/20 [==============================] - 4s 207ms/step - loss: 1.3240 - accuracy: 0.4365 - val_loss: 1.2295 - val_accuracy: 0.4778\n",
      "Epoch 41/50\n",
      "20/20 [==============================] - 4s 209ms/step - loss: 1.3519 - accuracy: 0.4302 - val_loss: 1.2266 - val_accuracy: 0.4815\n",
      "Epoch 42/50\n",
      "20/20 [==============================] - 4s 209ms/step - loss: 1.3363 - accuracy: 0.4317 - val_loss: 1.2232 - val_accuracy: 0.4778\n",
      "Epoch 43/50\n",
      "20/20 [==============================] - 4s 208ms/step - loss: 1.3877 - accuracy: 0.4270 - val_loss: 1.2216 - val_accuracy: 0.4704\n",
      "Epoch 44/50\n",
      "20/20 [==============================] - 4s 208ms/step - loss: 1.3182 - accuracy: 0.4635 - val_loss: 1.2175 - val_accuracy: 0.4741\n",
      "Epoch 45/50\n",
      "20/20 [==============================] - 4s 207ms/step - loss: 1.3530 - accuracy: 0.4079 - val_loss: 1.2136 - val_accuracy: 0.4667\n",
      "Epoch 46/50\n",
      "20/20 [==============================] - 4s 209ms/step - loss: 1.3865 - accuracy: 0.4270 - val_loss: 1.2181 - val_accuracy: 0.4704\n",
      "Epoch 47/50\n",
      "20/20 [==============================] - 4s 207ms/step - loss: 1.3387 - accuracy: 0.4492 - val_loss: 1.2127 - val_accuracy: 0.4704\n",
      "Epoch 48/50\n",
      "20/20 [==============================] - 4s 207ms/step - loss: 1.3112 - accuracy: 0.4317 - val_loss: 1.2102 - val_accuracy: 0.4741\n",
      "Epoch 49/50\n",
      "20/20 [==============================] - 4s 208ms/step - loss: 1.3827 - accuracy: 0.4143 - val_loss: 1.2058 - val_accuracy: 0.4778\n",
      "Epoch 50/50\n",
      "20/20 [==============================] - 4s 207ms/step - loss: 1.3202 - accuracy: 0.4429 - val_loss: 1.2092 - val_accuracy: 0.4889\n"
     ]
    }
   ],
   "source": [
    "nEpochs=50\n",
    "sgd = tensorflow.keras.optimizers.SGD(lr=0.0008)\n",
    "my_cnn_reg.compile(loss='categorical_crossentropy', \n",
    "                           optimizer=sgd, \n",
    "                           metrics=['accuracy'])\n",
    "\n",
    "\n",
    "history = my_cnn_reg.fit(datagen.flow(x_train, y_train_k), batch_size=batchSize, epochs=nEpochs, verbose=1,validation_data=( np.array(x_valid), np.array(y_valid_k)))"
   ]
  },
  {
   "cell_type": "code",
   "execution_count": 80,
   "metadata": {
    "colab": {
     "base_uri": "https://localhost:8080/",
     "height": 295
    },
    "id": "b-s5wN3Jrj2z",
    "outputId": "f39f8470-56de-4d4d-f605-b5dc8bc67d1e"
   },
   "outputs": [
    {
     "data": {
      "image/png": "[encoded data removed]",
      "text/plain": [
       "<Figure size 432x288 with 1 Axes>"
      ]
     },
     "metadata": {
      "needs_background": "light"
     },
     "output_type": "display_data"
    }
   ],
   "source": [
    "# dictionary keys seems to have changed in version 2\n",
    "k = ''\n",
    "if 'accuracy' in history.history :\n",
    "    k = 'accuracy'    \n",
    "\n",
    "if 'acc' in history.history :\n",
    "    k = 'acc'\n",
    "    \n",
    "if k != '' :    \n",
    "    plt.plot(history.history[k])\n",
    "    plt.plot(history.history['val_'+k])\n",
    "    plt.title('Model Accuracy')\n",
    "    plt.ylabel('Accuracy')\n",
    "    plt.xlabel('Epoch')\n",
    "    plt.legend(['train', 'valid'], loc='upper left')\n",
    "    plt.show()"
   ]
  },
  {
   "cell_type": "code",
   "execution_count": 81,
   "metadata": {
    "colab": {
     "base_uri": "https://localhost:8080/",
     "height": 295
    },
    "id": "Hlh0ozQXroag",
    "outputId": "3aff75b0-4498-4550-bb5c-af8d6602907d"
   },
   "outputs": [
    {
     "data": {
      "image/png": "[encoded data removed]",
      "text/plain": [
       "<Figure size 432x288 with 1 Axes>"
      ]
     },
     "metadata": {
      "needs_background": "light"
     },
     "output_type": "display_data"
    }
   ],
   "source": [
    "plt.plot(history.history['loss'])\n",
    "plt.plot(history.history['val_loss'])\n",
    "plt.title('Model loss')\n",
    "plt.ylabel('Loss')\n",
    "plt.xlabel('Epoch')\n",
    "plt.legend(['train', 'valid'], loc='upper left')\n",
    "plt.show()"
   ]
  },
  {
   "cell_type": "code",
   "execution_count": 82,
   "metadata": {
    "id": "dQiiXbvArpUi"
   },
   "outputs": [],
   "source": [
    "y_predict_prob = my_cnn_reg.predict(x_test)\n",
    "y_predict = y_predict_prob.argmax(axis=-1)"
   ]
  },
  {
   "cell_type": "code",
   "execution_count": 83,
   "metadata": {
    "colab": {
     "base_uri": "https://localhost:8080/"
    },
    "id": "hn6ZgCLyrtBo",
    "outputId": "11cd683e-dbe9-4435-b599-72cb685c624d"
   },
   "outputs": [
    {
     "name": "stdout",
     "output_type": "stream",
     "text": [
      "f1_score: 0.32284632458545504\n",
      "              precision    recall  f1-score   support\n",
      "\n",
      "           1       0.46      0.60      0.52        20\n",
      "           2       0.25      0.20      0.22        20\n",
      "           3       0.29      0.25      0.27        20\n",
      "           4       0.60      0.60      0.60        20\n",
      "           6       0.00      0.00      0.00        20\n",
      "\n",
      "    accuracy                           0.33       100\n",
      "   macro avg       0.32      0.33      0.32       100\n",
      "weighted avg       0.32      0.33      0.32       100\n",
      "\n",
      "Confusion matrix: \n",
      "[[12  6  0  1  1]\n",
      " [ 4  4  4  2  6]\n",
      " [ 1  0  5  3 11]\n",
      " [ 1  0  4 12  3]\n",
      " [ 8  6  4  2  0]]\n"
     ]
    },
    {
     "data": {
      "text/plain": [
       "0.32284632458545504"
      ]
     },
     "execution_count": 83,
     "metadata": {},
     "output_type": "execute_result"
    }
   ],
   "source": [
    "model_Evaluate(y_test,y_predict)"
   ]
  },
  {
   "cell_type": "markdown",
   "metadata": {
    "id": "gE7SUOH4soqv"
   },
   "source": [
    "increasing the number of epochs make f1 score increase to be 0.32\n",
    "but the model still need more data and some layers to improve its f1_score"
   ]
  }
 ],
 "metadata": {
  "accelerator": "TPU",
  "colab": {
   "collapsed_sections": [],
   "name": "DinaIbrahim_assign3.ipynb",
   "provenance": []
  },
  "kernelspec": {
   "display_name": "Python 3",
   "language": "python",
   "name": "python3"
  },
  "language_info": {
   "codemirror_mode": {
    "name": "ipython",
    "version": 3
   },
   "file_extension": ".py",
   "mimetype": "text/x-python",
   "name": "python",
   "nbconvert_exporter": "python",
   "pygments_lexer": "ipython3",
   "version": "3.8.8"
  }
 },
 "nbformat": 4,
 "nbformat_minor": 1
}
