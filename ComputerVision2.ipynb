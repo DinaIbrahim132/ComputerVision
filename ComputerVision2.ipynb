{
 "cells": [
  {
   "cell_type": "markdown",
   "metadata": {},
   "source": [
    "# import Liberaries"
   ]
  },
  {
   "cell_type": "code",
   "execution_count": 1,
   "metadata": {},
   "outputs": [],
   "source": [
    "import os\n",
    "import numpy as np\n",
    "import pandas as pd\n",
    "from matplotlib import pyplot as plt\n",
    "from skimage.color import rgb2gray\n",
    "from skimage.transform import resize\n",
    "from sklearn.metrics import confusion_matrix\n",
    "from skimage.io import imread_collection\n",
    "from sklearn.metrics import plot_confusion_matrix\n",
    "from sklearn.metrics import roc_curve, auc\n",
    "from sklearn.model_selection import cross_val_predict\n",
    "from skimage import  io\n",
    "from sklearn.metrics import precision_score, recall_score, f1_score, confusion_matrix\n",
    "from sklearn.metrics import classification_report\n",
    "import warnings\n",
    "warnings.filterwarnings(\"ignore\", category=np.VisibleDeprecationWarning)\n",
    "from sklearn import metrics\n",
    "from sklearn.metrics import f1_score\n"
   ]
  },
  {
   "cell_type": "code",
   "execution_count": 2,
   "metadata": {},
   "outputs": [
    {
     "name": "stdout",
     "output_type": "stream",
     "text": [
      "Requirement already satisfied: imbalanced-learn in c:\\users\\dina\\anaconda3\\lib\\site-packages (0.8.1)\n",
      "Requirement already satisfied: numpy>=1.13.3 in c:\\users\\dina\\anaconda3\\lib\\site-packages (from imbalanced-learn) (1.20.1)\n",
      "Requirement already satisfied: scikit-learn>=0.24 in c:\\users\\dina\\anaconda3\\lib\\site-packages (from imbalanced-learn) (0.24.1)\n",
      "Requirement already satisfied: scipy>=0.19.1 in c:\\users\\dina\\anaconda3\\lib\\site-packages (from imbalanced-learn) (1.6.2)\n",
      "Requirement already satisfied: joblib>=0.11 in c:\\users\\dina\\anaconda3\\lib\\site-packages (from imbalanced-learn) (1.0.1)\n",
      "Requirement already satisfied: threadpoolctl>=2.0.0 in c:\\users\\dina\\anaconda3\\lib\\site-packages (from scikit-learn>=0.24->imbalanced-learn) (2.1.0)\n"
     ]
    }
   ],
   "source": [
    "!pip install imbalanced-learn"
   ]
  },
  {
   "cell_type": "markdown",
   "metadata": {},
   "source": [
    "# Function to evaluate"
   ]
  },
  {
   "cell_type": "code",
   "execution_count": 3,
   "metadata": {},
   "outputs": [],
   "source": [
    "def model_Evaluate(y_test,y_pred):\n",
    "    # Print the evaluation metrics for the dataset.\n",
    "    f1=f1_score(y_test, y_pred, average='weighted')\n",
    "    print(\"f1_score:\",f1)\n",
    "    print(\"Accuracy:\",metrics.accuracy_score(y_test, y_pred))\n",
    "    print(classification_report(y_test, y_pred))\n",
    "    return f1"
   ]
  },
  {
   "cell_type": "markdown",
   "metadata": {},
   "source": [
    "# read images\n",
    "\n"
   ]
  },
  {
   "cell_type": "code",
   "execution_count": 4,
   "metadata": {},
   "outputs": [],
   "source": [
    "def readimgs(path):\n",
    "    file = os.listdir(path)\n",
    "    files = []\n",
    "    for img in file:\n",
    "        fullPath = os.path.join(path, img)\n",
    "        if os.path.isdir(fullPath):\n",
    "            files = files + readimgs(fullPath)\n",
    "        else:\n",
    "            files.append(fullPath)              \n",
    "    return files        \n"
   ]
  },
  {
   "cell_type": "code",
   "execution_count": 5,
   "metadata": {},
   "outputs": [],
   "source": [
    "path=r'textures\\training'\n",
    "imgs = readimgs(path)\n",
    "imgs = [io.imread(file) for file in imgs]"
   ]
  },
  {
   "cell_type": "code",
   "execution_count": 6,
   "metadata": {},
   "outputs": [],
   "source": [
    "path=r'textures\\testing'\n",
    "imgs_test = readimgs(path)\n",
    "imgs_test = [io.imread(file) for file in imgs_test]"
   ]
  },
  {
   "cell_type": "markdown",
   "metadata": {},
   "source": [
    "# Resize the images\n"
   ]
  },
  {
   "cell_type": "code",
   "execution_count": 7,
   "metadata": {},
   "outputs": [],
   "source": [
    "new_img=[]\n",
    "for i in range(len(imgs)):\n",
    "    new_img.append(resize(imgs[i], (32, 32),anti_aliasing=True).flatten())"
   ]
  },
  {
   "cell_type": "code",
   "execution_count": 8,
   "metadata": {},
   "outputs": [
    {
     "name": "stdout",
     "output_type": "stream",
     "text": [
      "number of training images :  180\n"
     ]
    }
   ],
   "source": [
    "print(\"number of training images : \",len(new_img))"
   ]
  },
  {
   "cell_type": "code",
   "execution_count": 9,
   "metadata": {},
   "outputs": [],
   "source": [
    "new_img_test=[]\n",
    "for i in range(len(imgs_test)):\n",
    "    new_img_test.append(resize(imgs_test[i], (32, 32),anti_aliasing=True).flatten())"
   ]
  },
  {
   "cell_type": "code",
   "execution_count": 10,
   "metadata": {},
   "outputs": [
    {
     "name": "stdout",
     "output_type": "stream",
     "text": [
      "number of testing images :  60\n"
     ]
    }
   ],
   "source": [
    "print(\"number of testing images : \",len(new_img_test))"
   ]
  },
  {
   "cell_type": "markdown",
   "metadata": {},
   "source": [
    "# show images"
   ]
  },
  {
   "cell_type": "code",
   "execution_count": 11,
   "metadata": {},
   "outputs": [
    {
     "data": {
      "image/png": "[encoded data removed]",
      "text/plain": [
       "<Figure size 432x288 with 1 Axes>"
      ]
     },
     "metadata": {
      "needs_background": "light"
     },
     "output_type": "display_data"
    }
   ],
   "source": [
    "def show(img):\n",
    "    io.imshow(img.reshape(32,32))\n",
    "    plt.show()\n",
    "    \n",
    "show(new_img[150])"
   ]
  },
  {
   "cell_type": "code",
   "execution_count": 12,
   "metadata": {},
   "outputs": [
    {
     "data": {
      "image/png": "[encoded data removed]",
      "text/plain": [
       "<Figure size 432x288 with 1 Axes>"
      ]
     },
     "metadata": {
      "needs_background": "light"
     },
     "output_type": "display_data"
    }
   ],
   "source": [
    "show(new_img_test[40])"
   ]
  },
  {
   "cell_type": "markdown",
   "metadata": {},
   "source": [
    "# labeled the images"
   ]
  },
  {
   "cell_type": "code",
   "execution_count": 13,
   "metadata": {},
   "outputs": [],
   "source": [
    "#fiels' name\n",
    "label=[\"canvas1\", \"cushion1\", \"linsseeds1\", \"sand1\",\"seat2\",\"stone1\"]"
   ]
  },
  {
   "cell_type": "code",
   "execution_count": 14,
   "metadata": {},
   "outputs": [],
   "source": [
    "# labeld each image with the file name\n",
    "c=[]\n",
    "x=0\n",
    "for j in label:\n",
    "    for i in range(0+x,30+x):\n",
    "        c.append(j)\n",
    "    x=x+30"
   ]
  },
  {
   "cell_type": "code",
   "execution_count": 15,
   "metadata": {},
   "outputs": [],
   "source": [
    "t=[]\n",
    "x=0\n",
    "for j in label:\n",
    "    for i in range(0+x,10+x):\n",
    "        t.append(j)\n",
    "    x=x+10"
   ]
  },
  {
   "cell_type": "markdown",
   "metadata": {},
   "source": [
    "# Match the images\n"
   ]
  },
  {
   "cell_type": "code",
   "execution_count": 16,
   "metadata": {},
   "outputs": [],
   "source": [
    "#################### train data ########################\n",
    "imageA=[]\n",
    "imageB=[]\n",
    "label=[]\n",
    "for i in range(len(new_img)-1):\n",
    "    for j in range(i+1,len(new_img)):\n",
    "        # save the images in list\n",
    "        imageA.append(new_img[i])\n",
    "        imageB.append(new_img[j])\n",
    "        #if the 2 images have same class. labeled them as 1 if not 0\n",
    "        if(c[i]==c[j]):\n",
    "            label.append(1)\n",
    "        else:\n",
    "            label.append(0)"
   ]
  },
  {
   "cell_type": "code",
   "execution_count": 17,
   "metadata": {},
   "outputs": [
    {
     "name": "stdout",
     "output_type": "stream",
     "text": [
      "number of images : 16110\n"
     ]
    }
   ],
   "source": [
    "print(\"number of images :\",len(imageA))"
   ]
  },
  {
   "cell_type": "code",
   "execution_count": 18,
   "metadata": {},
   "outputs": [],
   "source": [
    "#################### test data ########################\n",
    "\n",
    "imageA_test=[]\n",
    "imageB_test=[]\n",
    "label_test=[]\n",
    "for i in range(len(new_img_test)-1):\n",
    "    for j in range(i+1,len(new_img_test)):\n",
    "        imageA_test.append(new_img_test[i])\n",
    "        imageB_test.append(new_img_test[j])\n",
    "        if(t[i]==t[j]):\n",
    "            label_test.append(1)\n",
    "        else:\n",
    "            label_test.append(0)"
   ]
  },
  {
   "cell_type": "code",
   "execution_count": 19,
   "metadata": {},
   "outputs": [
    {
     "name": "stdout",
     "output_type": "stream",
     "text": [
      "number of images : 1770\n"
     ]
    }
   ],
   "source": [
    "print(\"number of images :\",len(imageA_test))"
   ]
  },
  {
   "cell_type": "markdown",
   "metadata": {},
   "source": [
    "# concatenate 2 images"
   ]
  },
  {
   "cell_type": "code",
   "execution_count": 20,
   "metadata": {},
   "outputs": [],
   "source": [
    "#################### train data ########################\n",
    "\n",
    "concat=[]\n",
    "for i in range(len(imageA)):\n",
    "    concat.append(np.concatenate((imageA[i], imageB[i]), axis=0))"
   ]
  },
  {
   "cell_type": "code",
   "execution_count": 21,
   "metadata": {},
   "outputs": [],
   "source": [
    "#################### test data ########################\n",
    "concat_test=[]\n",
    "for i in range(len(imageA_test)):\n",
    "    concat_test.append(np.concatenate((imageA_test[i], imageB_test[i]), axis=0))"
   ]
  },
  {
   "cell_type": "markdown",
   "metadata": {},
   "source": [
    "# operations"
   ]
  },
  {
   "cell_type": "code",
   "execution_count": 22,
   "metadata": {},
   "outputs": [],
   "source": [
    "def conv(imageA, imageB):\n",
    "    imageA=np.flip(imageA, (0))\n",
    "    mul = np.multiply(imageA,imageB)\n",
    "    score= sum(mul)\n",
    "    return score"
   ]
  },
  {
   "cell_type": "code",
   "execution_count": 23,
   "metadata": {},
   "outputs": [],
   "source": [
    "def cc(imageA, imageB):\n",
    "    mul = np.multiply(imageA,imageB)\n",
    "    score= sum(mul)\n",
    "    return score"
   ]
  },
  {
   "cell_type": "code",
   "execution_count": 24,
   "metadata": {},
   "outputs": [],
   "source": [
    "def ssd(imageA,imageB):\n",
    "    score = np.sum((np.array(imageA, dtype=np.float32) - np.array(imageB, dtype=np.float32))**2)\n",
    "    return score\n",
    "    "
   ]
  },
  {
   "cell_type": "markdown",
   "metadata": {},
   "source": [
    "# function matching Images\n"
   ]
  },
  {
   "cell_type": "code",
   "execution_count": 25,
   "metadata": {},
   "outputs": [],
   "source": [
    "def matchingImages( imageA, imageB, method, normalize):\n",
    "    if normalize=='y':\n",
    "        imageA = imageA- np.mean(imageA)/ np.std(imageA)\n",
    "        imageB = imageB- np.mean(imageB)/ np.std(imageB)\n",
    "        \n",
    "    if method == 'cc' :\n",
    "       result=cc(imageA,imageB)\n",
    "\n",
    "    elif method == 'conv':\n",
    "        result=conv(imageA,imageB)\n",
    "\n",
    "    elif method == 'ssd':\n",
    "        #result = np.sum((imageA.astype(\"float\") - imageB.astype(\"float\")) ** 2)\n",
    "        result=ssd(imageA,imageB)\n",
    "    return result"
   ]
  },
  {
   "cell_type": "code",
   "execution_count": 26,
   "metadata": {},
   "outputs": [],
   "source": [
    "df_train=pd.DataFrame({'imageA':imageA,'imageB':imageB,'concat':concat,'class':label})"
   ]
  },
  {
   "cell_type": "code",
   "execution_count": 27,
   "metadata": {},
   "outputs": [
    {
     "data": {
      "text/html": [
       "<div>\n",
       "<style scoped>\n",
       "    .dataframe tbody tr th:only-of-type {\n",
       "        vertical-align: middle;\n",
       "    }\n",
       "\n",
       "    .dataframe tbody tr th {\n",
       "        vertical-align: top;\n",
       "    }\n",
       "\n",
       "    .dataframe thead th {\n",
       "        text-align: right;\n",
       "    }\n",
       "</style>\n",
       "<table border=\"1\" class=\"dataframe\">\n",
       "  <thead>\n",
       "    <tr style=\"text-align: right;\">\n",
       "      <th></th>\n",
       "      <th>imageA</th>\n",
       "      <th>imageB</th>\n",
       "      <th>concat</th>\n",
       "      <th>class</th>\n",
       "    </tr>\n",
       "  </thead>\n",
       "  <tbody>\n",
       "    <tr>\n",
       "      <th>0</th>\n",
       "      <td>[0.49607843137254903, 0.5019607843137255, 0.45...</td>\n",
       "      <td>[0.4, 0.4215686274509806, 0.4382352941176472, ...</td>\n",
       "      <td>[0.49607843137254903, 0.5019607843137255, 0.45...</td>\n",
       "      <td>1</td>\n",
       "    </tr>\n",
       "    <tr>\n",
       "      <th>1</th>\n",
       "      <td>[0.49607843137254903, 0.5019607843137255, 0.45...</td>\n",
       "      <td>[0.4872549019607842, 0.48627450980392156, 0.44...</td>\n",
       "      <td>[0.49607843137254903, 0.5019607843137255, 0.45...</td>\n",
       "      <td>1</td>\n",
       "    </tr>\n",
       "    <tr>\n",
       "      <th>2</th>\n",
       "      <td>[0.49607843137254903, 0.5019607843137255, 0.45...</td>\n",
       "      <td>[0.5617647058823528, 0.5343137254901961, 0.456...</td>\n",
       "      <td>[0.49607843137254903, 0.5019607843137255, 0.45...</td>\n",
       "      <td>1</td>\n",
       "    </tr>\n",
       "    <tr>\n",
       "      <th>3</th>\n",
       "      <td>[0.49607843137254903, 0.5019607843137255, 0.45...</td>\n",
       "      <td>[0.45294117647058824, 0.4647058823529412, 0.47...</td>\n",
       "      <td>[0.49607843137254903, 0.5019607843137255, 0.45...</td>\n",
       "      <td>1</td>\n",
       "    </tr>\n",
       "    <tr>\n",
       "      <th>4</th>\n",
       "      <td>[0.49607843137254903, 0.5019607843137255, 0.45...</td>\n",
       "      <td>[0.519607843137255, 0.4784313725490196, 0.4862...</td>\n",
       "      <td>[0.49607843137254903, 0.5019607843137255, 0.45...</td>\n",
       "      <td>1</td>\n",
       "    </tr>\n",
       "  </tbody>\n",
       "</table>\n",
       "</div>"
      ],
      "text/plain": [
       "                                              imageA  \\\n",
       "0  [0.49607843137254903, 0.5019607843137255, 0.45...   \n",
       "1  [0.49607843137254903, 0.5019607843137255, 0.45...   \n",
       "2  [0.49607843137254903, 0.5019607843137255, 0.45...   \n",
       "3  [0.49607843137254903, 0.5019607843137255, 0.45...   \n",
       "4  [0.49607843137254903, 0.5019607843137255, 0.45...   \n",
       "\n",
       "                                              imageB  \\\n",
       "0  [0.4, 0.4215686274509806, 0.4382352941176472, ...   \n",
       "1  [0.4872549019607842, 0.48627450980392156, 0.44...   \n",
       "2  [0.5617647058823528, 0.5343137254901961, 0.456...   \n",
       "3  [0.45294117647058824, 0.4647058823529412, 0.47...   \n",
       "4  [0.519607843137255, 0.4784313725490196, 0.4862...   \n",
       "\n",
       "                                              concat  class  \n",
       "0  [0.49607843137254903, 0.5019607843137255, 0.45...      1  \n",
       "1  [0.49607843137254903, 0.5019607843137255, 0.45...      1  \n",
       "2  [0.49607843137254903, 0.5019607843137255, 0.45...      1  \n",
       "3  [0.49607843137254903, 0.5019607843137255, 0.45...      1  \n",
       "4  [0.49607843137254903, 0.5019607843137255, 0.45...      1  "
      ]
     },
     "execution_count": 27,
     "metadata": {},
     "output_type": "execute_result"
    }
   ],
   "source": [
    "df_train.head()"
   ]
  },
  {
   "cell_type": "code",
   "execution_count": 28,
   "metadata": {},
   "outputs": [
    {
     "data": {
      "text/plain": [
       "0    13500\n",
       "1     2610\n",
       "Name: class, dtype: int64"
      ]
     },
     "execution_count": 28,
     "metadata": {},
     "output_type": "execute_result"
    }
   ],
   "source": [
    "df_train['class'].value_counts()"
   ]
  },
  {
   "cell_type": "markdown",
   "metadata": {},
   "source": [
    "# split train and validition"
   ]
  },
  {
   "cell_type": "code",
   "execution_count": 29,
   "metadata": {},
   "outputs": [],
   "source": [
    "from imblearn.under_sampling import RandomUnderSampler\n",
    "rus = RandomUnderSampler(random_state=42)"
   ]
  },
  {
   "cell_type": "code",
   "execution_count": 58,
   "metadata": {},
   "outputs": [],
   "source": [
    "X, y= rus.fit_resample(concat, label)"
   ]
  },
  {
   "cell_type": "code",
   "execution_count": 59,
   "metadata": {},
   "outputs": [],
   "source": [
    "from sklearn.model_selection import train_test_split\n",
    "X_train, X_valid, y_train, y_valid = train_test_split(X, y, test_size=0.30, random_state=42, shuffle=True, stratify=y)"
   ]
  },
  {
   "cell_type": "code",
   "execution_count": 32,
   "metadata": {},
   "outputs": [
    {
     "name": "stdout",
     "output_type": "stream",
     "text": [
      "***** train data *****\n",
      "class 0 : 1827\n",
      "class 1 : 1827\n",
      "the size of train data :  3654\n"
     ]
    }
   ],
   "source": [
    "print('***** train data *****')\n",
    "print(\"class 0 :\",np.shape(np.array(y_train)[np.array(y_train) == 0])[0])\n",
    "print(\"class 1 :\",np.shape(np.array(y_train)[np.array(y_train) == 1])[0])\n",
    "print('the size of train data : ',len(X_train))"
   ]
  },
  {
   "cell_type": "code",
   "execution_count": 33,
   "metadata": {},
   "outputs": [
    {
     "name": "stdout",
     "output_type": "stream",
     "text": [
      "***** valid data *****\n",
      "class 0 : 783\n",
      "class 1 : 783\n",
      "the size of valid data :  1566\n"
     ]
    }
   ],
   "source": [
    "print('***** valid data *****')\n",
    "print(\"class 0 :\",np.shape(np.array(y_valid)[np.array(y_valid) == 0])[0])\n",
    "print(\"class 1 :\",np.shape(np.array(y_valid)[np.array(y_valid) == 1])[0])\n",
    "print('the size of valid data : ',len(X_valid))"
   ]
  },
  {
   "cell_type": "markdown",
   "metadata": {},
   "source": [
    "# build the classifiers"
   ]
  },
  {
   "cell_type": "code",
   "execution_count": 34,
   "metadata": {},
   "outputs": [],
   "source": [
    "def sep (conc):\n",
    "    middle_index=len(conc[0])// 2\n",
    "    imageA=[]\n",
    "    imageB=[]\n",
    "    for i in conc:\n",
    "        imageA.append(i[:middle_index]) \n",
    "        imageB.append(i[middle_index:])\n",
    "    return imageA , imageB"
   ]
  },
  {
   "cell_type": "code",
   "execution_count": 35,
   "metadata": {},
   "outputs": [],
   "source": [
    "def  operations(imageA , imageB ,method ,norm):\n",
    "    result=[]\n",
    "    for i in range(len(imageA)): \n",
    "        result.append(matchingImages( imageA[i], imageB[i], method,norm))\n",
    "    return result"
   ]
  },
  {
   "cell_type": "code",
   "execution_count": 36,
   "metadata": {},
   "outputs": [],
   "source": [
    "def report(X_train,X_valid,method ,norm):\n",
    "    imageA_train , imageB_train= sep (X_train)\n",
    "    train=operations(imageA_train , imageB_train,method ,norm)\n",
    "    threshold=np.mean(train)\n",
    "\n",
    "    imageA_valid , imageB_valid = sep (X_valid)\n",
    "    valid=operations(imageA_valid , imageB_valid,method ,norm)\n",
    "    if method != 'ssd':\n",
    "        for i in range(len(valid)):\n",
    "            if  valid[i]<threshold:\n",
    "                  valid[i]=0  \n",
    "            else :\n",
    "                 valid[i]=1\n",
    "    else :\n",
    "        for i in range(len(valid)):\n",
    "            if  valid[i]>threshold:\n",
    "                  valid[i]=0  \n",
    "            else :\n",
    "                 valid[i]=1\n",
    "        \n",
    "    return valid                   "
   ]
  },
  {
   "cell_type": "code",
   "execution_count": 37,
   "metadata": {},
   "outputs": [
    {
     "name": "stdout",
     "output_type": "stream",
     "text": [
      "####################### cc _ y #######################\n",
      "f1_score: 0.4732531328152198\n",
      "Accuracy: 0.4891443167305236\n",
      "              precision    recall  f1-score   support\n",
      "\n",
      "           0       0.49      0.66      0.56       783\n",
      "           1       0.48      0.32      0.38       783\n",
      "\n",
      "    accuracy                           0.49      1566\n",
      "   macro avg       0.49      0.49      0.47      1566\n",
      "weighted avg       0.49      0.49      0.47      1566\n",
      "\n",
      "####################### cc _ n #######################\n",
      "f1_score: 0.5523479218276905\n",
      "Accuracy: 0.5523627075351213\n",
      "              precision    recall  f1-score   support\n",
      "\n",
      "           0       0.55      0.55      0.55       783\n",
      "           1       0.55      0.56      0.55       783\n",
      "\n",
      "    accuracy                           0.55      1566\n",
      "   macro avg       0.55      0.55      0.55      1566\n",
      "weighted avg       0.55      0.55      0.55      1566\n",
      "\n",
      "####################### conv _ y #######################\n",
      "f1_score: 0.4732531328152198\n",
      "Accuracy: 0.4891443167305236\n",
      "              precision    recall  f1-score   support\n",
      "\n",
      "           0       0.49      0.66      0.56       783\n",
      "           1       0.48      0.32      0.38       783\n",
      "\n",
      "    accuracy                           0.49      1566\n",
      "   macro avg       0.49      0.49      0.47      1566\n",
      "weighted avg       0.49      0.49      0.47      1566\n",
      "\n",
      "####################### conv _ n #######################\n",
      "f1_score: 0.5005192688987946\n",
      "Accuracy: 0.5012771392081737\n",
      "              precision    recall  f1-score   support\n",
      "\n",
      "           0       0.50      0.46      0.48       783\n",
      "           1       0.50      0.54      0.52       783\n",
      "\n",
      "    accuracy                           0.50      1566\n",
      "   macro avg       0.50      0.50      0.50      1566\n",
      "weighted avg       0.50      0.50      0.50      1566\n",
      "\n",
      "####################### ssd _ y #######################\n",
      "f1_score: 0.7165563656905749\n",
      "Accuracy: 0.7362707535121328\n",
      "              precision    recall  f1-score   support\n",
      "\n",
      "           0       1.00      0.47      0.64       783\n",
      "           1       0.65      1.00      0.79       783\n",
      "\n",
      "    accuracy                           0.74      1566\n",
      "   macro avg       0.83      0.74      0.72      1566\n",
      "weighted avg       0.83      0.74      0.72      1566\n",
      "\n",
      "####################### ssd _ n #######################\n",
      "f1_score: 0.4703235294117647\n",
      "Accuracy: 0.47126436781609193\n",
      "              precision    recall  f1-score   support\n",
      "\n",
      "           0       0.47      0.51      0.49       783\n",
      "           1       0.47      0.43      0.45       783\n",
      "\n",
      "    accuracy                           0.47      1566\n",
      "   macro avg       0.47      0.47      0.47      1566\n",
      "weighted avg       0.47      0.47      0.47      1566\n",
      "\n"
     ]
    }
   ],
   "source": [
    "methods=['cc','conv','ssd']\n",
    "normaliztion =['y','n']\n",
    "classifiers=[]\n",
    "f1=[]\n",
    "for method in methods :\n",
    "    for norm in normaliztion:\n",
    "        classifiers.append(method+\"_\"+norm)\n",
    "        print('#######################',method,\"_\",norm,'#######################')\n",
    "        predict=report(X_train,X_valid,method ,norm)\n",
    "        f1.append(model_Evaluate(y_valid,predict))"
   ]
  },
  {
   "cell_type": "markdown",
   "metadata": {},
   "source": [
    "# the best classifier according to f1_score "
   ]
  },
  {
   "cell_type": "code",
   "execution_count": 38,
   "metadata": {},
   "outputs": [
    {
     "name": "stdout",
     "output_type": "stream",
     "text": [
      "the best classifier ssd_y  with f1 score : 0.7165563656905749\n"
     ]
    }
   ],
   "source": [
    "best=np.argmax(f1)\n",
    "print('the best classifier',classifiers[best],\" with f1 score :\",f1[best])"
   ]
  },
  {
   "cell_type": "markdown",
   "metadata": {},
   "source": [
    "# build MLP"
   ]
  },
  {
   "cell_type": "code",
   "execution_count": 39,
   "metadata": {
    "scrolled": true
   },
   "outputs": [
    {
     "name": "stderr",
     "output_type": "stream",
     "text": [
      "C:\\Users\\Dina\\anaconda3\\lib\\site-packages\\sklearn\\neural_network\\_multilayer_perceptron.py:614: ConvergenceWarning: Stochastic Optimizer: Maximum iterations (1) reached and the optimization hasn't converged yet.\n",
      "  warnings.warn(\n"
     ]
    },
    {
     "data": {
      "text/plain": [
       "MLPClassifier(max_iter=1, solver='sgd', warm_start='true')"
      ]
     },
     "execution_count": 39,
     "metadata": {},
     "output_type": "execute_result"
    }
   ],
   "source": [
    "from sklearn.neural_network import MLPClassifier\n",
    "import warnings\n",
    "\n",
    "nn_clf =   MLPClassifier(max_iter=1,warm_start='true',solver='sgd')\n",
    "nn_clf.fit(X_train,y_train)"
   ]
  },
  {
   "cell_type": "code",
   "execution_count": 40,
   "metadata": {},
   "outputs": [],
   "source": [
    "pred_train=nn_clf.predict(X_train)"
   ]
  },
  {
   "cell_type": "code",
   "execution_count": 41,
   "metadata": {},
   "outputs": [
    {
     "name": "stdout",
     "output_type": "stream",
     "text": [
      "f1_score: 0.40397625068432447\n",
      "Accuracy: 0.5068418171866448\n",
      "              precision    recall  f1-score   support\n",
      "\n",
      "           0       0.54      0.09      0.16      1827\n",
      "           1       0.50      0.92      0.65      1827\n",
      "\n",
      "    accuracy                           0.51      3654\n",
      "   macro avg       0.52      0.51      0.40      3654\n",
      "weighted avg       0.52      0.51      0.40      3654\n",
      "\n"
     ]
    },
    {
     "data": {
      "text/plain": [
       "0.40397625068432447"
      ]
     },
     "execution_count": 41,
     "metadata": {},
     "output_type": "execute_result"
    }
   ],
   "source": [
    "model_Evaluate(y_train,pred_train)"
   ]
  },
  {
   "cell_type": "markdown",
   "metadata": {},
   "source": [
    "The model didn't train well on the data train ..it suffers from underfitting .. i increase  the complexty "
   ]
  },
  {
   "cell_type": "code",
   "execution_count": 42,
   "metadata": {},
   "outputs": [
    {
     "name": "stdout",
     "output_type": "stream",
     "text": [
      "34.52503943443298\n"
     ]
    },
    {
     "name": "stderr",
     "output_type": "stream",
     "text": [
      "C:\\Users\\Dina\\anaconda3\\lib\\site-packages\\sklearn\\neural_network\\_multilayer_perceptron.py:614: ConvergenceWarning: Stochastic Optimizer: Maximum iterations (100) reached and the optimization hasn't converged yet.\n",
      "  warnings.warn(\n"
     ]
    }
   ],
   "source": [
    "import time\n",
    "timee=time.time()\n",
    "nn_clf =   MLPClassifier(max_iter=100)\n",
    "nn_clf.fit(X_train,y_train)\n",
    "timee=time.time()-timee\n",
    "print(timee)"
   ]
  },
  {
   "cell_type": "code",
   "execution_count": 43,
   "metadata": {},
   "outputs": [],
   "source": [
    "pred_train=nn_clf.predict(X_train)"
   ]
  },
  {
   "cell_type": "code",
   "execution_count": 44,
   "metadata": {},
   "outputs": [
    {
     "name": "stdout",
     "output_type": "stream",
     "text": [
      "f1_score: 0.8131623146000366\n",
      "Accuracy: 0.8139025725232621\n",
      "              precision    recall  f1-score   support\n",
      "\n",
      "           0       0.78      0.88      0.82      1827\n",
      "           1       0.86      0.75      0.80      1827\n",
      "\n",
      "    accuracy                           0.81      3654\n",
      "   macro avg       0.82      0.81      0.81      3654\n",
      "weighted avg       0.82      0.81      0.81      3654\n",
      "\n"
     ]
    },
    {
     "data": {
      "text/plain": [
       "0.8131623146000366"
      ]
     },
     "execution_count": 44,
     "metadata": {},
     "output_type": "execute_result"
    }
   ],
   "source": [
    "model_Evaluate(y_train,pred_train)"
   ]
  },
  {
   "cell_type": "markdown",
   "metadata": {},
   "source": [
    "The model didn't train very well. but it's fine"
   ]
  },
  {
   "cell_type": "code",
   "execution_count": 45,
   "metadata": {},
   "outputs": [],
   "source": [
    "pred=nn_clf.predict(X_valid)"
   ]
  },
  {
   "cell_type": "code",
   "execution_count": 46,
   "metadata": {},
   "outputs": [
    {
     "name": "stdout",
     "output_type": "stream",
     "text": [
      "f1_score: 0.7581268485047651\n",
      "Accuracy: 0.7598978288633461\n",
      "              precision    recall  f1-score   support\n",
      "\n",
      "           0       0.72      0.85      0.78       783\n",
      "           1       0.81      0.67      0.74       783\n",
      "\n",
      "    accuracy                           0.76      1566\n",
      "   macro avg       0.77      0.76      0.76      1566\n",
      "weighted avg       0.77      0.76      0.76      1566\n",
      "\n"
     ]
    },
    {
     "data": {
      "text/plain": [
       "0.7581268485047651"
      ]
     },
     "execution_count": 46,
     "metadata": {},
     "output_type": "execute_result"
    }
   ],
   "source": [
    "model_Evaluate(y_valid,pred)"
   ]
  },
  {
   "cell_type": "markdown",
   "metadata": {},
   "source": [
    "# Comparison"
   ]
  },
  {
   "cell_type": "code",
   "execution_count": 47,
   "metadata": {},
   "outputs": [
    {
     "name": "stdout",
     "output_type": "stream",
     "text": [
      "0.032913923263549805\n"
     ]
    }
   ],
   "source": [
    "timee=time.time()\n",
    "pred_mlp=nn_clf.predict(concat_test)\n",
    "timee=time.time()-timee\n",
    "print(timee)"
   ]
  },
  {
   "cell_type": "markdown",
   "metadata": {},
   "source": [
    "MLP is faster it predict the test in (0.03) s  "
   ]
  },
  {
   "cell_type": "code",
   "execution_count": 48,
   "metadata": {},
   "outputs": [
    {
     "name": "stdout",
     "output_type": "stream",
     "text": [
      "f1_score: 0.6066318617093017\n",
      "Accuracy: 0.5423728813559322\n",
      "              precision    recall  f1-score   support\n",
      "\n",
      "           0       0.85      0.56      0.68      1500\n",
      "           1       0.15      0.43      0.22       270\n",
      "\n",
      "    accuracy                           0.54      1770\n",
      "   macro avg       0.50      0.50      0.45      1770\n",
      "weighted avg       0.74      0.54      0.61      1770\n",
      "\n"
     ]
    },
    {
     "data": {
      "text/plain": [
       "0.6066318617093017"
      ]
     },
     "execution_count": 48,
     "metadata": {},
     "output_type": "execute_result"
    }
   ],
   "source": [
    "model_Evaluate(label_test,pred_mlp)"
   ]
  },
  {
   "cell_type": "markdown",
   "metadata": {},
   "source": [
    "No efforts in the train but it took 34 s because it build on 100 interations "
   ]
  },
  {
   "cell_type": "markdown",
   "metadata": {},
   "source": [
    "regarding to test report : it get 0.68 f1-score for class 0 and 0.22 for class 1. that mean it can't classfy it. so, i don't think that it is generalized. the f1_score decrease each time the model see the unseen data."
   ]
  },
  {
   "cell_type": "markdown",
   "metadata": {},
   "source": [
    "Robustness : the model has a ratio of error with train data , increased in the validation and be high with the test data."
   ]
  },
  {
   "cell_type": "code",
   "execution_count": 62,
   "metadata": {},
   "outputs": [
    {
     "name": "stdout",
     "output_type": "stream",
     "text": [
      "3.1421494483947754\n"
     ]
    }
   ],
   "source": [
    "timee=time.time()\n",
    "pred_classifier=report(X_train,concat_test,'ssd' ,'y')\n",
    "timee=time.time()-timee\n",
    "print(timee)"
   ]
  },
  {
   "cell_type": "markdown",
   "metadata": {},
   "source": [
    "it took (3)s to predict the test   "
   ]
  },
  {
   "cell_type": "code",
   "execution_count": 50,
   "metadata": {},
   "outputs": [
    {
     "name": "stdout",
     "output_type": "stream",
     "text": [
      "f1_score: 0.5741469934092844\n",
      "Accuracy: 0.5214689265536723\n",
      "              precision    recall  f1-score   support\n",
      "\n",
      "           0       0.99      0.44      0.61      1500\n",
      "           1       0.24      0.99      0.39       270\n",
      "\n",
      "    accuracy                           0.52      1770\n",
      "   macro avg       0.62      0.71      0.50      1770\n",
      "weighted avg       0.88      0.52      0.57      1770\n",
      "\n"
     ]
    },
    {
     "data": {
      "text/plain": [
       "0.5741469934092844"
      ]
     },
     "execution_count": 50,
     "metadata": {},
     "output_type": "execute_result"
    }
   ],
   "source": [
    "model_Evaluate(label_test,pred_classifier)"
   ]
  },
  {
   "cell_type": "markdown",
   "metadata": {},
   "source": [
    "No efforts in the train but the training . but the threashold depends on my decision to choose the best approach."
   ]
  },
  {
   "cell_type": "markdown",
   "metadata": {},
   "source": [
    "regarding to test report : it get 0.61 f1-score for class 0 and 0.39 for class 1. that mean it can't classfy it. so, i don't think that it is generalized. the f1_score decrease each time the model see the unseen data."
   ]
  },
  {
   "cell_type": "markdown",
   "metadata": {},
   "source": [
    "Robustness : the model has a ratio of error with train data , increased in the validation and be high with the test data."
   ]
  },
  {
   "cell_type": "markdown",
   "metadata": {},
   "source": [
    "# Feature Engineering"
   ]
  },
  {
   "cell_type": "code",
   "execution_count": 51,
   "metadata": {},
   "outputs": [],
   "source": [
    "import skimage\n",
    "from skimage import filters\n",
    "X_train_filtered = skimage.filters.gaussian(np.asarray( X_train))\n",
    "X_test_filtered = skimage.filters.gaussian(np.asarray( concat_test))\n",
    "X_valid= skimage.filters.gaussian(np.asarray( X_valid))"
   ]
  },
  {
   "cell_type": "code",
   "execution_count": 52,
   "metadata": {},
   "outputs": [],
   "source": [
    "X_train_filtered = skimage.filters.sobel(np.asarray( X_train))\n",
    "X_test_filtered = skimage.filters.sobel(np.asarray( concat_test))\n",
    "X_valid= skimage.filters.sobel(np.asarray( X_valid))"
   ]
  },
  {
   "cell_type": "code",
   "execution_count": 53,
   "metadata": {},
   "outputs": [],
   "source": [
    "from sklearn.decomposition import PCA\n",
    "\n",
    "pca = PCA(n_components=32)\n",
    "pca = pca.fit(X_train_filtered)\n",
    "X_train_filtered_scaled=pca.transform(X_train_filtered)\n",
    "X_test_filtered_scaled=pca.transform(X_test_filtered)\n",
    "X_valid=pca.transform(X_valid)"
   ]
  },
  {
   "cell_type": "code",
   "execution_count": 54,
   "metadata": {},
   "outputs": [
    {
     "name": "stderr",
     "output_type": "stream",
     "text": [
      "C:\\Users\\Dina\\anaconda3\\lib\\site-packages\\sklearn\\neural_network\\_multilayer_perceptron.py:614: ConvergenceWarning: Stochastic Optimizer: Maximum iterations (100) reached and the optimization hasn't converged yet.\n",
      "  warnings.warn(\n"
     ]
    },
    {
     "data": {
      "text/plain": [
       "MLPClassifier(max_iter=100)"
      ]
     },
     "execution_count": 54,
     "metadata": {},
     "output_type": "execute_result"
    }
   ],
   "source": [
    "nn_clf2 =   MLPClassifier(max_iter=100)\n",
    "nn_clf2.fit(X_train_filtered_scaled,y_train)"
   ]
  },
  {
   "cell_type": "code",
   "execution_count": 55,
   "metadata": {},
   "outputs": [
    {
     "name": "stdout",
     "output_type": "stream",
     "text": [
      "f1_score: 0.7716265815230364\n",
      "Accuracy: 0.7389830508474576\n",
      "              precision    recall  f1-score   support\n",
      "\n",
      "           0       0.94      0.74      0.83      1500\n",
      "           1       0.34      0.72      0.46       270\n",
      "\n",
      "    accuracy                           0.74      1770\n",
      "   macro avg       0.64      0.73      0.64      1770\n",
      "weighted avg       0.85      0.74      0.77      1770\n",
      "\n"
     ]
    },
    {
     "data": {
      "text/plain": [
       "0.7716265815230364"
      ]
     },
     "execution_count": 55,
     "metadata": {},
     "output_type": "execute_result"
    }
   ],
   "source": [
    "pred=nn_clf2.predict(X_test_filtered_scaled)\n",
    "model_Evaluate(label_test,pred)"
   ]
  },
  {
   "cell_type": "markdown",
   "metadata": {},
   "source": [
    "first : i need to remove noise and detail so i used Gaussian filter \n"
   ]
  },
  {
   "cell_type": "markdown",
   "metadata": {},
   "source": [
    "second : i need to make fillter to make edge detection so i used Sobel filter "
   ]
  },
  {
   "cell_type": "markdown",
   "metadata": {},
   "source": [
    "this appoach make the f1_score: 0.77  instead of 0.60"
   ]
  }
 ],
 "metadata": {
  "kernelspec": {
   "display_name": "Python 3",
   "language": "python",
   "name": "python3"
  },
  "language_info": {
   "codemirror_mode": {
    "name": "ipython",
    "version": 3
   },
   "file_extension": ".py",
   "mimetype": "text/x-python",
   "name": "python",
   "nbconvert_exporter": "python",
   "pygments_lexer": "ipython3",
   "version": "3.8.8"
  }
 },
 "nbformat": 4,
 "nbformat_minor": 4
}
